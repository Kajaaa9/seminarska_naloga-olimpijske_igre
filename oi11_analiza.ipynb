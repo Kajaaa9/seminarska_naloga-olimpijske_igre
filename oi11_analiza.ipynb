{
 "cells": [
  {
   "cell_type": "markdown",
   "id": "5796825a",
   "metadata": {},
   "source": [
    "# REZULTATI OLIMPIJSKIH IGER "
   ]
  },
  {
   "cell_type": "markdown",
   "id": "2d2c7d08",
   "metadata": {
    "vscode": {
     "languageId": "plaintext"
    }
   },
   "source": [
    "Analiza rezultatov olimpijskih iger po državah, udejstvovanja držav na olimpijskih igrah in pogostosti posameznih športnih disciplin na olimpijskih igrah."
   ]
  }
 ],
 "metadata": {
  "language_info": {
   "name": "python"
  }
 },
 "nbformat": 4,
 "nbformat_minor": 5
}
