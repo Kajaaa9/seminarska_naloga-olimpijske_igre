{
 "cells": [
  {
   "cell_type": "markdown",
   "id": "5796825a",
   "metadata": {},
   "source": [
    "# REZULTATI OLIMPIJSKIH IGER "
   ]
  },
  {
   "cell_type": "markdown",
   "id": "2d2c7d08",
   "metadata": {
    "vscode": {
     "languageId": "plaintext"
    }
   },
   "source": [
    "Analiza rezultatov olimpijskih iger po državah, udejstvovanja držav na olimpijskih igrah in pogostosti posameznih športnih disciplin na olimpijskih igrah."
   ]
  },
  {
   "cell_type": "code",
   "execution_count": 22,
   "id": "3f4484a1",
   "metadata": {},
   "outputs": [],
   "source": [
    "import pandas as pd            # za delo s tabelami\n",
    "import seaborn as sns          # za lepo risanje grafov             # da se grafi prikažejo v notebooku\n",
    "%matplotlib inline\n",
    "\n",
    "## ker bomo delali z velikimi razpredelnicami, povemo, da naj se vedno izpiše le 10 vrstic\n",
    "pd.set_option(\"display.max_rows\", 10)\n",
    "# pd.options.display.max_rows = 10      # druga opcija, oboje je ok\n",
    "\n",
    "# naložimo razpredelnico, s katero bomo delali\n",
    "MEDALJE = pd.read_csv(\"oi8.3_medalje_pregled.csv\", index_col=0)\n",
    "DISCIPLINE = pd.read_csv(\"oi9.3_discipline_pregled.csv\", index_col=0)"
   ]
  },
  {
   "cell_type": "code",
   "execution_count": 23,
   "id": "90da9f69",
   "metadata": {},
   "outputs": [],
   "source": [
    "# MEDALJE"
   ]
  },
  {
   "cell_type": "code",
   "execution_count": 24,
   "id": "b11136b2",
   "metadata": {},
   "outputs": [],
   "source": [
    "# DISCIPLINE"
   ]
  },
  {
   "cell_type": "markdown",
   "id": "ff33f0bc",
   "metadata": {},
   "source": [
    "."
   ]
  },
  {
   "cell_type": "markdown",
   "id": "db9feec9",
   "metadata": {},
   "source": [
    "#### Število olimpijskih iger"
   ]
  },
  {
   "cell_type": "code",
   "execution_count": 25,
   "id": "054d11a5",
   "metadata": {},
   "outputs": [
    {
     "name": "stdout",
     "output_type": "stream",
     "text": [
      "Skupaj olimpijskih iger: 215\n",
      "Poletne olimpijske igre: 120\n",
      "Zimske olimpijske igre: 96\n"
     ]
    }
   ],
   "source": [
    "oi_skupaj = len(MEDALJE.columns) - 1        # ker je prvi stolpec drzava\n",
    "print(\"Skupaj olimpijskih iger:\", oi_skupaj)\n",
    "# print(f\"Skupaj olimpijskih iger: {oi_skupaj}\")\n",
    "\n",
    "vrstica_z_vrsto = MEDALJE.iloc[0]\n",
    "poletne = (vrstica_z_vrsto == \"Summer\").sum()\n",
    "zimske = (vrstica_z_vrsto == \"Winter\").sum()\n",
    "print(\"Poletne olimpijske igre:\", poletne)\n",
    "print(\"Zimske olimpijske igre:\", zimske)"
   ]
  },
  {
   "cell_type": "markdown",
   "id": "77a5850a",
   "metadata": {},
   "source": [
    "Koliko razlicnih držav je dobilo medalje na olimpijskih igrah"
   ]
  },
  {
   "cell_type": "code",
   "execution_count": null,
   "id": "3572acfa",
   "metadata": {},
   "outputs": [],
   "source": []
  },
  {
   "cell_type": "markdown",
   "id": "3044f6ef",
   "metadata": {},
   "source": [
    "#### Dobljene medalje na olimpijskih igrah"
   ]
  },
  {
   "cell_type": "code",
   "execution_count": null,
   "id": "a1d93eb3",
   "metadata": {},
   "outputs": [],
   "source": [
    "drzava = MEDALJE[\"Država\"]\n",
    "stolpci_skupaj = MEDALJE.loc[:, MEDALJE.columns.str.contains(\"skupaj\", case=False)]\n",
    "\n",
    "MEDALJE_SKUPAJ = pd.concat([drzava, stolpci_skupaj], axis=1)\n",
    "MEDALJE_SKUPAJ.columns = MEDALJE_SKUPAJ.columns.str.replace(\"-Skupaj\", \"\", case=False)\n",
    "\n",
    "print(MEDALJE_SKUPAJ)"
   ]
  },
  {
   "cell_type": "markdown",
   "id": "95043cd5",
   "metadata": {},
   "source": [
    "Koliko medalj se je podelilo vsako leto"
   ]
  },
  {
   "cell_type": "code",
   "execution_count": null,
   "id": "0bf970a9",
   "metadata": {},
   "outputs": [],
   "source": [
    "vsote = MEDALJE_SKUPAJ.iloc[2:, 1:].astype(int).sum()       # Seštejemo vrednosti v stolpcih od tretje vrstice naprej (index 2+), brez prvega stolpca \"Država\"\n",
    "\n",
    "nova_vrstica = pd.DataFrame([[\"Skupaj\"] + vsote.tolist()], columns=MEDALJE_SKUPAJ.columns)      # Ustvari vrstico z napisom 'Skupaj' v prvem stolpcu in ostalo so vsote\n",
    "\n",
    "# Dodaj vrstico na konec tabele\n",
    "MEDALJE_SKUPAJ_PO_LETIH = pd.concat([MEDALJE_SKUPAJ.head(1), nova_vrstica], ignore_index=True).T\n",
    "\n",
    "MEDALJE_SKUPAJ_PO_LETIH"
   ]
  },
  {
   "cell_type": "code",
   "execution_count": null,
   "id": "5fc8e497",
   "metadata": {},
   "outputs": [],
   "source": []
  }
 ],
 "metadata": {
  "kernelspec": {
   "display_name": "Python 3",
   "language": "python",
   "name": "python3"
  },
  "language_info": {
   "codemirror_mode": {
    "name": "ipython",
    "version": 3
   },
   "file_extension": ".py",
   "mimetype": "text/x-python",
   "name": "python",
   "nbconvert_exporter": "python",
   "pygments_lexer": "ipython3",
   "version": "3.8.2"
  }
 },
 "nbformat": 4,
 "nbformat_minor": 5
}
