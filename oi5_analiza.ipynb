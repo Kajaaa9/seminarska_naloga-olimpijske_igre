{
 "cells": [
  {
   "cell_type": "markdown",
   "id": "5796825a",
   "metadata": {},
   "source": [
    "# OLIMPIJSKE IGRE"
   ]
  },
  {
   "cell_type": "markdown",
   "id": "2d2c7d08",
   "metadata": {
    "vscode": {
     "languageId": "plaintext"
    }
   },
   "source": [
    "Analiza dosežkov na olimpijskih igrah po državah in pogostosti posameznih športnih disciplin na olimpijskih igrah."
   ]
  },
  {
   "cell_type": "markdown",
   "id": "fcef195c",
   "metadata": {},
   "source": [
    "## Uvoz podatkov"
   ]
  },
  {
   "cell_type": "code",
   "execution_count": 76,
   "id": "3f4484a1",
   "metadata": {},
   "outputs": [],
   "source": [
    "import pandas as pd            # za delo s tabelami\n",
    "import seaborn as sns          # za lepo risanje grafov             # da se grafi prikažejo v notebooku\n",
    "%matplotlib inline\n",
    "\n",
    "## ker bomo delali z velikimi razpredelnicami, povemo, da naj se vedno izpiše le 10 vrstic\n",
    "pd.set_option(\"display.max_rows\", 10)\n",
    "# pd.options.display.max_rows = 10      # druga opcija, oboje je ok\n",
    "\n",
    "# naložimo razpredelnico, s katero bomo delali\n",
    "MEDALJE = pd.read_csv(\"oi8.3_medalje_pregled.csv\", index_col=0)\n",
    "DISCIPLINE = pd.read_csv(\"oi9.3_discipline_pregled.csv\", index_col=0)"
   ]
  },
  {
   "cell_type": "code",
   "execution_count": 77,
   "id": "90da9f69",
   "metadata": {},
   "outputs": [],
   "source": [
    "# MEDALJE\n",
    "# DISCIPLINE"
   ]
  },
  {
   "cell_type": "code",
   "execution_count": 78,
   "id": "8bd1f112",
   "metadata": {},
   "outputs": [],
   "source": [
    "MEDALJE_SUMMER = MEDALJE.filter(like=\"Summer\").astype(int).rename(columns=lambda x: x.replace(\"-Summer\", \"\")).loc[lambda df: ~(df == 0).all(axis=1)]\n",
    "MEDALJE_WINTER = MEDALJE.filter(like=\"Winter\").astype(int).rename(columns=lambda x: x.replace(\"-Winter\", \"\")).loc[lambda df: ~(df == 0).all(axis=1)]"
   ]
  },
  {
   "cell_type": "code",
   "execution_count": 79,
   "id": "8592c99f",
   "metadata": {},
   "outputs": [],
   "source": [
    "DISCIPLINE_SUMMER = DISCIPLINE.filter(like=\"Summer\").astype(int).rename(columns=lambda x: x.replace(\"-Summer\", \"\")).loc[lambda df: ~(df == 0).all(axis=1)]\n",
    "DISCIPLINE_WINTER = DISCIPLINE.filter(like=\"Winter\").astype(int).rename(columns=lambda x: x.replace(\"-Winter\", \"\")).loc[lambda df: ~(df == 0).all(axis=1)]"
   ]
  },
  {
   "cell_type": "markdown",
   "id": "ff33f0bc",
   "metadata": {},
   "source": [
    "##"
   ]
  },
  {
   "cell_type": "markdown",
   "id": "950654eb",
   "metadata": {},
   "source": [
    "## Splošno"
   ]
  },
  {
   "cell_type": "markdown",
   "id": "db9feec9",
   "metadata": {},
   "source": [
    "Število olimpijskih iger"
   ]
  },
  {
   "cell_type": "code",
   "execution_count": 80,
   "id": "025ab35f",
   "metadata": {},
   "outputs": [
    {
     "name": "stdout",
     "output_type": "stream",
     "text": [
      "Skupaj olimpijskih iger: 54\n",
      "Poletne olimpijske igre: 30\n",
      "Zimske olimpijske igre: 24\n"
     ]
    }
   ],
   "source": [
    "print(f\"Skupaj olimpijskih iger: {len(DISCIPLINE.columns)}\")\n",
    "print(f\"Poletne olimpijske igre: {len(DISCIPLINE_SUMMER.columns)}\")\n",
    "print(f\"Zimske olimpijske igre: {len(DISCIPLINE_WINTER.columns)}\")"
   ]
  },
  {
   "cell_type": "markdown",
   "id": "dc0665fd",
   "metadata": {},
   "source": [
    "Lokacija olimpijskih iger"
   ]
  },
  {
   "cell_type": "code",
   "execution_count": 81,
   "id": "3c738056",
   "metadata": {},
   "outputs": [
    {
     "name": "stdout",
     "output_type": "stream",
     "text": [
      "Največrat so se Olimpijske igre odvijale v Paris, London in sicer 3-krat.\n"
     ]
    }
   ],
   "source": [
    "kraji = DISCIPLINE.columns.str.split(\"-\", n=2).str[1].value_counts()\n",
    "kraji_najvec_oi = kraji[kraji == kraji.max()]\n",
    "\n",
    "print(f\"Največrat so se Olimpijske igre odvijale v {\", \".join(kraji_najvec_oi.index)} in sicer {kraji.max()}-krat.\")     #sklanjanje!!"
   ]
  },
  {
   "cell_type": "code",
   "execution_count": 82,
   "id": "d2855a7d",
   "metadata": {},
   "outputs": [
    {
     "name": "stdout",
     "output_type": "stream",
     "text": [
      "V Tokyu so bile Olimpijske igre 2-krat, in sicer leta 1964, 2020.\n"
     ]
    }
   ],
   "source": [
    "tokyo_leta = DISCIPLINE.columns[DISCIPLINE.columns.str.contains(\"-Tokyo-\")].str.split(\"-\", n=2).str[0]\n",
    "print(f\"V Tokyu so bile Olimpijske igre {kraji['Tokyo']}-krat, in sicer leta {', '.join(tokyo_leta)}.\")"
   ]
  },
  {
   "cell_type": "code",
   "execution_count": 83,
   "id": "f2efb07f",
   "metadata": {},
   "outputs": [
    {
     "name": "stdout",
     "output_type": "stream",
     "text": [
      "Mesto Tokyo je gostilo Olimpijske igre 2-krat, in sicer leta 1964, 2020.\n"
     ]
    }
   ],
   "source": [
    "mesto = \"Tokyo\"     # mesto za katero me zanima\n",
    "\n",
    "if mesto not in kraji:\n",
    "    print(f'Mesto {mesto} ni nikoli gostilo Olimpijskih iger.')\n",
    "else:\n",
    "    katera_leta = DISCIPLINE.columns[DISCIPLINE.columns.str.contains(f\"-{mesto}-\")].str.split(\"-\", n=2).str[0]\n",
    "    print(f\"Mesto {mesto} je gostilo Olimpijske igre {kraji[mesto]}-krat, in sicer leta {', '.join(katera_leta)}.\")"
   ]
  },
  {
   "cell_type": "code",
   "execution_count": 84,
   "id": "a09ab3cc",
   "metadata": {},
   "outputs": [
    {
     "name": "stdout",
     "output_type": "stream",
     "text": [
      "Mesto Ljubljana ni nikoli gostilo Olimpijskih iger.\n"
     ]
    }
   ],
   "source": [
    "mesto = \"Ljubljana\"     # mesto za katero me zanima\n",
    "\n",
    "if mesto not in kraji:\n",
    "    print(f'Mesto {mesto} ni nikoli gostilo Olimpijskih iger.')\n",
    "else:\n",
    "    katera_leta = DISCIPLINE.columns[DISCIPLINE.columns.str.contains(f\"-{mesto}-\")].str.split(\"-\", n=2).str[0]\n",
    "    print(f\"Mesto {mesto} je gostilo Olimpijske igre {kraji[mesto]}-krat, in sicer leta {', '.join(katera_leta)}.\")"
   ]
  },
  {
   "cell_type": "markdown",
   "id": "86c48236",
   "metadata": {},
   "source": [
    "## random"
   ]
  },
  {
   "cell_type": "markdown",
   "id": "77a5850a",
   "metadata": {},
   "source": [
    "Koliko različnih držav je dobilo medalje na olimpijskih igrah"
   ]
  },
  {
   "cell_type": "code",
   "execution_count": 48,
   "id": "3572acfa",
   "metadata": {},
   "outputs": [
    {
     "name": "stdout",
     "output_type": "stream",
     "text": [
      "157\n"
     ]
    }
   ],
   "source": [
    "print(len(MEDALJE))"
   ]
  },
  {
   "cell_type": "markdown",
   "id": "3044f6ef",
   "metadata": {},
   "source": [
    "#### Dobljene medalje na olimpijskih igrah"
   ]
  },
  {
   "cell_type": "code",
   "execution_count": 49,
   "id": "a1d93eb3",
   "metadata": {},
   "outputs": [
    {
     "name": "stdout",
     "output_type": "stream",
     "text": [
      "                         Država  1896-Athens-Summer  1900-Paris-Summer  \\\n",
      "0                           AIN                 NaN                NaN   \n",
      "1                   Afghanistan                 NaN                NaN   \n",
      "2                       Albania                 NaN                NaN   \n",
      "3                       Algeria                 NaN                NaN   \n",
      "4                     Argentina                 NaN                NaN   \n",
      "...                         ...                 ...                ...   \n",
      "Vietnam                     NaN                 0.0                0.0   \n",
      "Virgin Islands, US          NaN                 0.0                0.0   \n",
      "Yugoslavia                  NaN                 0.0                0.0   \n",
      "Zambia                      NaN                 0.0                0.0   \n",
      "Zimbabwe                    NaN                 0.0                0.0   \n",
      "\n",
      "                    1904-St_Louis-Summer  1908-London-Summer  \\\n",
      "0                                    NaN                 NaN   \n",
      "1                                    NaN                 NaN   \n",
      "2                                    NaN                 NaN   \n",
      "3                                    NaN                 NaN   \n",
      "4                                    NaN                 NaN   \n",
      "...                                  ...                 ...   \n",
      "Vietnam                              0.0                 0.0   \n",
      "Virgin Islands, US                   0.0                 0.0   \n",
      "Yugoslavia                           0.0                 0.0   \n",
      "Zambia                               0.0                 0.0   \n",
      "Zimbabwe                             0.0                 0.0   \n",
      "\n",
      "                    1912-Stockholm-Summer  1920-Antwerp-Summer  \\\n",
      "0                                     NaN                  NaN   \n",
      "1                                     NaN                  NaN   \n",
      "2                                     NaN                  NaN   \n",
      "3                                     NaN                  NaN   \n",
      "4                                     NaN                  NaN   \n",
      "...                                   ...                  ...   \n",
      "Vietnam                               0.0                  0.0   \n",
      "Virgin Islands, US                    0.0                  0.0   \n",
      "Yugoslavia                            0.0                  0.0   \n",
      "Zambia                                0.0                  0.0   \n",
      "Zimbabwe                              0.0                  0.0   \n",
      "\n",
      "                    1924-Chamonix-Winter  1924-Paris-Summer  \\\n",
      "0                                    NaN                NaN   \n",
      "1                                    NaN                NaN   \n",
      "2                                    NaN                NaN   \n",
      "3                                    NaN                NaN   \n",
      "4                                    NaN                NaN   \n",
      "...                                  ...                ...   \n",
      "Vietnam                              0.0                0.0   \n",
      "Virgin Islands, US                   0.0                0.0   \n",
      "Yugoslavia                           0.0                2.0   \n",
      "Zambia                               0.0                0.0   \n",
      "Zimbabwe                             0.0                0.0   \n",
      "\n",
      "                    1928-Amsterdam-Summer  ...  2006-Turin-Winter  \\\n",
      "0                                     NaN  ...                NaN   \n",
      "1                                     NaN  ...                NaN   \n",
      "2                                     NaN  ...                NaN   \n",
      "3                                     NaN  ...                NaN   \n",
      "4                                     NaN  ...                NaN   \n",
      "...                                   ...  ...                ...   \n",
      "Vietnam                               0.0  ...                0.0   \n",
      "Virgin Islands, US                    0.0  ...                0.0   \n",
      "Yugoslavia                            5.0  ...                0.0   \n",
      "Zambia                                0.0  ...                0.0   \n",
      "Zimbabwe                              0.0  ...                0.0   \n",
      "\n",
      "                    2008-Beijing-Summer  2010-Vancouver-Winter  \\\n",
      "0                                   NaN                    NaN   \n",
      "1                                   NaN                    NaN   \n",
      "2                                   NaN                    NaN   \n",
      "3                                   NaN                    NaN   \n",
      "4                                   NaN                    NaN   \n",
      "...                                 ...                    ...   \n",
      "Vietnam                             1.0                    0.0   \n",
      "Virgin Islands, US                  0.0                    0.0   \n",
      "Yugoslavia                          0.0                    0.0   \n",
      "Zambia                              0.0                    0.0   \n",
      "Zimbabwe                            4.0                    0.0   \n",
      "\n",
      "                    2012-London-Summer  2014-Sochi-Winter  2016-Rio-Summer  \\\n",
      "0                                  NaN                NaN              NaN   \n",
      "1                                  NaN                NaN              NaN   \n",
      "2                                  NaN                NaN              NaN   \n",
      "3                                  NaN                NaN              NaN   \n",
      "4                                  NaN                NaN              NaN   \n",
      "...                                ...                ...              ...   \n",
      "Vietnam                            1.0                0.0              2.0   \n",
      "Virgin Islands, US                 0.0                0.0              0.0   \n",
      "Yugoslavia                         0.0                0.0              0.0   \n",
      "Zambia                             0.0                0.0              0.0   \n",
      "Zimbabwe                           0.0                0.0              0.0   \n",
      "\n",
      "                    2018-Pyeongchang-Winter  2020-Tokyo-Summer  \\\n",
      "0                                       NaN                NaN   \n",
      "1                                       NaN                NaN   \n",
      "2                                       NaN                NaN   \n",
      "3                                       NaN                NaN   \n",
      "4                                       NaN                NaN   \n",
      "...                                     ...                ...   \n",
      "Vietnam                                 0.0                0.0   \n",
      "Virgin Islands, US                      0.0                0.0   \n",
      "Yugoslavia                              0.0                0.0   \n",
      "Zambia                                  0.0                0.0   \n",
      "Zimbabwe                                0.0                0.0   \n",
      "\n",
      "                    2022-Beijing-Winter  2024-Paris-Summer  \n",
      "0                                   NaN                NaN  \n",
      "1                                   NaN                NaN  \n",
      "2                                   NaN                NaN  \n",
      "3                                   NaN                NaN  \n",
      "4                                   NaN                NaN  \n",
      "...                                 ...                ...  \n",
      "Vietnam                             0.0                0.0  \n",
      "Virgin Islands, US                  0.0                0.0  \n",
      "Yugoslavia                          0.0                0.0  \n",
      "Zambia                              0.0                1.0  \n",
      "Zimbabwe                            0.0                0.0  \n",
      "\n",
      "[314 rows x 55 columns]\n"
     ]
    }
   ],
   "source": [
    "drzava = MEDALJE.index.to_frame(index=False)\n",
    "stolpci_skupaj = MEDALJE.loc[:, MEDALJE.columns.str.contains(\"skupaj\", case=False)]\n",
    "\n",
    "MEDALJE_SKUPAJ = pd.concat([drzava, stolpci_skupaj], axis=1)\n",
    "MEDALJE_SKUPAJ.columns = MEDALJE_SKUPAJ.columns.str.replace(\"-Skupaj\", \"\", case=False)\n",
    "\n",
    "print(MEDALJE_SKUPAJ)"
   ]
  },
  {
   "cell_type": "markdown",
   "id": "95043cd5",
   "metadata": {},
   "source": [
    "Koliko medalj se je podelilo vsako leto"
   ]
  },
  {
   "cell_type": "markdown",
   "id": "a757220c",
   "metadata": {},
   "source": [
    "## Medalje"
   ]
  },
  {
   "cell_type": "code",
   "execution_count": null,
   "id": "0bf970a9",
   "metadata": {},
   "outputs": [],
   "source": []
  },
  {
   "cell_type": "code",
   "execution_count": null,
   "id": "5fc8e497",
   "metadata": {},
   "outputs": [],
   "source": []
  }
 ],
 "metadata": {
  "kernelspec": {
   "display_name": "Python 3",
   "language": "python",
   "name": "python3"
  },
  "language_info": {
   "codemirror_mode": {
    "name": "ipython",
    "version": 3
   },
   "file_extension": ".py",
   "mimetype": "text/x-python",
   "name": "python",
   "nbconvert_exporter": "python",
   "pygments_lexer": "ipython3",
   "version": "3.13.2"
  }
 },
 "nbformat": 4,
 "nbformat_minor": 5
}
