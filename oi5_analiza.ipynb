{
 "cells": [
  {
   "cell_type": "markdown",
   "id": "5796825a",
   "metadata": {},
   "source": [
    "# OLIMPIJSKE IGRE"
   ]
  },
  {
   "cell_type": "markdown",
   "id": "2d2c7d08",
   "metadata": {
    "vscode": {
     "languageId": "plaintext"
    }
   },
   "source": [
    "Analiza dosežkov na olimpijskih igrah po državah in pogostosti posameznih športnih disciplin na olimpijskih igrah."
   ]
  },
  {
   "cell_type": "markdown",
   "id": "fcef195c",
   "metadata": {},
   "source": [
    "## Uvoz podatkov"
   ]
  },
  {
   "cell_type": "code",
   "execution_count": 200,
   "id": "3f4484a1",
   "metadata": {},
   "outputs": [],
   "source": [
    "import pandas as pd            # za delo s tabelami\n",
    "import seaborn as sns          # za lepo risanje grafov             # da se grafi prikažejo v notebooku\n",
    "%matplotlib inline\n",
    "\n",
    "## ker bomo delali z velikimi razpredelnicami, povemo, da naj se vedno izpiše le 10 vrstic\n",
    "pd.set_option(\"display.max_rows\", 10)\n",
    "# pd.options.display.max_rows = 10      # druga opcija, oboje je ok\n",
    "\n",
    "# naložimo razpredelnico, s katero bomo delali\n",
    "MEDALJE = pd.read_csv(\"oi8.3_medalje_pregled.csv\", index_col=0)\n",
    "DISCIPLINE = pd.read_csv(\"oi9.3_discipline_pregled.csv\", index_col=0)"
   ]
  },
  {
   "cell_type": "code",
   "execution_count": 201,
   "id": "8bd1f112",
   "metadata": {},
   "outputs": [],
   "source": [
    "MEDALJE_SUMMER = MEDALJE.filter(like=\"Summer\").astype(int).rename(columns=lambda x: x.replace(\"-Summer\", \"\")).loc[lambda df: ~(df == 0).all(axis=1)]\n",
    "MEDALJE_WINTER = MEDALJE.filter(like=\"Winter\").astype(int).rename(columns=lambda x: x.replace(\"-Winter\", \"\")).loc[lambda df: ~(df == 0).all(axis=1)]"
   ]
  },
  {
   "cell_type": "code",
   "execution_count": 202,
   "id": "a892b89e",
   "metadata": {},
   "outputs": [],
   "source": [
    "MEDALJE_SKUPAJ = MEDALJE.filter(like=\"Skupaj\").astype(int).rename(columns=lambda x: x.replace(\"-Skupaj\", \"\")).loc[lambda df: ~(df == 0).all(axis=1)]\n",
    "MEDALJE_SKUPAJ_SUMMER = MEDALJE_SUMMER.filter(like=\"Skupaj\").astype(int).rename(columns=lambda x: x.replace(\"-Skupaj\", \"\")).loc[lambda df: ~(df == 0).all(axis=1)]\n",
    "MEDALJE_SKUPAJ_WINTER = MEDALJE_WINTER.filter(like=\"Skupaj\").astype(int).rename(columns=lambda x: x.replace(\"-Skupaj\", \"\")).loc[lambda df: ~(df == 0).all(axis=1)]\n",
    "\n",
    "# samo letnice, ne mesta\n",
    "MEDALJE_SKUPAJ2_SUMMER = MEDALJE_SUMMER.filter(like=\"Skupaj\").astype(int).rename(columns=lambda x: x.split('-')[0]).loc[lambda df: ~(df == 0).all(axis=1)]\n",
    "MEDALJE_SKUPAJ2_WINTER = MEDALJE_WINTER.filter(like=\"Skupaj\").astype(int).rename(columns=lambda x: x.split('-')[0]).loc[lambda df: ~(df == 0).all(axis=1)]"
   ]
  },
  {
   "cell_type": "code",
   "execution_count": 203,
   "id": "8592c99f",
   "metadata": {},
   "outputs": [],
   "source": [
    "DISCIPLINE_SUMMER = DISCIPLINE.filter(like=\"Summer\").astype(int).rename(columns=lambda x: x.replace(\"-Summer\", \"\")).loc[lambda df: ~(df == 0).all(axis=1)]\n",
    "DISCIPLINE_WINTER = DISCIPLINE.filter(like=\"Winter\").astype(int).rename(columns=lambda x: x.replace(\"-Winter\", \"\")).loc[lambda df: ~(df == 0).all(axis=1)]"
   ]
  },
  {
   "cell_type": "markdown",
   "id": "ff33f0bc",
   "metadata": {},
   "source": [
    "##"
   ]
  },
  {
   "cell_type": "markdown",
   "id": "950654eb",
   "metadata": {},
   "source": [
    "## Splošno"
   ]
  },
  {
   "cell_type": "markdown",
   "id": "db9feec9",
   "metadata": {},
   "source": [
    "Število olimpijskih iger"
   ]
  },
  {
   "cell_type": "code",
   "execution_count": 204,
   "id": "025ab35f",
   "metadata": {},
   "outputs": [
    {
     "name": "stdout",
     "output_type": "stream",
     "text": [
      "Skupaj olimpijskih iger: 54\n",
      "Poletne olimpijske igre: 30\n",
      "Zimske olimpijske igre: 24\n"
     ]
    }
   ],
   "source": [
    "print(f\"Skupaj olimpijskih iger: {len(DISCIPLINE.columns)}\")\n",
    "print(f\"Poletne olimpijske igre: {len(DISCIPLINE_SUMMER.columns)}\")\n",
    "print(f\"Zimske olimpijske igre: {len(DISCIPLINE_WINTER.columns)}\")"
   ]
  },
  {
   "cell_type": "markdown",
   "id": "dc0665fd",
   "metadata": {},
   "source": [
    "Lokacija olimpijskih iger"
   ]
  },
  {
   "cell_type": "code",
   "execution_count": 205,
   "id": "3c738056",
   "metadata": {},
   "outputs": [
    {
     "name": "stdout",
     "output_type": "stream",
     "text": [
      "Največrat so se Olimpijske igre odvijale v Paris, London in sicer 3-krat.\n"
     ]
    }
   ],
   "source": [
    "kraji = DISCIPLINE.columns.str.split(\"-\", n=2).str[1].value_counts()\n",
    "kraji_najvec_oi = kraji[kraji == kraji.max()]\n",
    "\n",
    "print(f\"Največrat so se Olimpijske igre odvijale v {\", \".join(kraji_najvec_oi.index)} in sicer {kraji.max()}-krat.\")     #sklanjanje!!"
   ]
  },
  {
   "cell_type": "code",
   "execution_count": 206,
   "id": "d2855a7d",
   "metadata": {},
   "outputs": [
    {
     "name": "stdout",
     "output_type": "stream",
     "text": [
      "V Tokyu so bile Olimpijske igre 2-krat, in sicer leta 1964, 2020.\n"
     ]
    }
   ],
   "source": [
    "tokyo_leta = DISCIPLINE.columns[DISCIPLINE.columns.str.contains(\"-Tokyo-\")].str.split(\"-\", n=2).str[0]\n",
    "print(f\"V Tokyu so bile Olimpijske igre {kraji['Tokyo']}-krat, in sicer leta {', '.join(tokyo_leta)}.\")"
   ]
  },
  {
   "cell_type": "code",
   "execution_count": 207,
   "id": "f2efb07f",
   "metadata": {},
   "outputs": [
    {
     "name": "stdout",
     "output_type": "stream",
     "text": [
      "Mesto Tokyo je gostilo Olimpijske igre 2-krat, in sicer leta 1964, 2020.\n"
     ]
    }
   ],
   "source": [
    "mesto = \"Tokyo\"     # mesto za katero me zanima\n",
    "\n",
    "if mesto.replace(\" \", \"_\") not in kraji:\n",
    "    print(f'Mesto {mesto} ni nikoli gostilo Olimpijskih iger.')\n",
    "else:\n",
    "    katera_leta = DISCIPLINE.columns[DISCIPLINE.columns.str.contains(f\"-{mesto}-\")].str.split(\"-\", n=2).str[0]\n",
    "    print(f\"Mesto {mesto} je gostilo Olimpijske igre {kraji[mesto]}-krat, in sicer leta {', '.join(katera_leta)}.\")"
   ]
  },
  {
   "cell_type": "code",
   "execution_count": 208,
   "id": "a09ab3cc",
   "metadata": {},
   "outputs": [
    {
     "name": "stdout",
     "output_type": "stream",
     "text": [
      "Mesto Ljubljana ni nikoli gostilo Olimpijskih iger.\n"
     ]
    }
   ],
   "source": [
    "mesto = \"Ljubljana\"     # mesto za katero me zanima\n",
    "\n",
    "if mesto.replace(\" \", \"_\") not in kraji:\n",
    "    print(f'Mesto {mesto} ni nikoli gostilo Olimpijskih iger.')\n",
    "else:\n",
    "    katera_leta = DISCIPLINE.columns[DISCIPLINE.columns.str.contains(f\"-{mesto}-\")].str.split(\"-\", n=2).str[0]\n",
    "    print(f\"Mesto {mesto} je gostilo Olimpijske igre {kraji[mesto]}-krat, in sicer leta {', '.join(katera_leta)}.\")"
   ]
  },
  {
   "cell_type": "markdown",
   "id": "86c48236",
   "metadata": {},
   "source": [
    "## random"
   ]
  },
  {
   "cell_type": "markdown",
   "id": "77a5850a",
   "metadata": {},
   "source": [
    "Koliko različnih držav je dobilo medalje na olimpijskih igrah"
   ]
  },
  {
   "cell_type": "code",
   "execution_count": 209,
   "id": "3572acfa",
   "metadata": {},
   "outputs": [
    {
     "name": "stdout",
     "output_type": "stream",
     "text": [
      "157\n"
     ]
    }
   ],
   "source": [
    "print(len(MEDALJE))"
   ]
  },
  {
   "cell_type": "markdown",
   "id": "3044f6ef",
   "metadata": {},
   "source": [
    "#### Dobljene medalje na olimpijskih igrah"
   ]
  },
  {
   "cell_type": "code",
   "execution_count": 210,
   "id": "a1d93eb3",
   "metadata": {},
   "outputs": [
    {
     "name": "stdout",
     "output_type": "stream",
     "text": [
      "                         Država  1896-Athens-Summer  1908-London-Summer  \\\n",
      "0                           AIN                 NaN                 NaN   \n",
      "1                   Afghanistan                 NaN                 NaN   \n",
      "2                       Albania                 NaN                 NaN   \n",
      "3                       Algeria                 NaN                 NaN   \n",
      "4                     Argentina                 NaN                 NaN   \n",
      "...                         ...                 ...                 ...   \n",
      "Vietnam                     NaN                 0.0                 0.0   \n",
      "Virgin Islands, US          NaN                 0.0                 0.0   \n",
      "Yugoslavia                  NaN                 0.0                 0.0   \n",
      "Zambia                      NaN                 0.0                 0.0   \n",
      "Zimbabwe                    NaN                 0.0                 0.0   \n",
      "\n",
      "                    1912-Stockholm-Summer  1920-Antwerp-Summer  \\\n",
      "0                                     NaN                  NaN   \n",
      "1                                     NaN                  NaN   \n",
      "2                                     NaN                  NaN   \n",
      "3                                     NaN                  NaN   \n",
      "4                                     NaN                  NaN   \n",
      "...                                   ...                  ...   \n",
      "Vietnam                               0.0                  0.0   \n",
      "Virgin Islands, US                    0.0                  0.0   \n",
      "Yugoslavia                            0.0                  0.0   \n",
      "Zambia                                0.0                  0.0   \n",
      "Zimbabwe                              0.0                  0.0   \n",
      "\n",
      "                    1924-Chamonix-Winter  1924-Paris-Summer  \\\n",
      "0                                    NaN                NaN   \n",
      "1                                    NaN                NaN   \n",
      "2                                    NaN                NaN   \n",
      "3                                    NaN                NaN   \n",
      "4                                    NaN                NaN   \n",
      "...                                  ...                ...   \n",
      "Vietnam                              0.0                0.0   \n",
      "Virgin Islands, US                   0.0                0.0   \n",
      "Yugoslavia                           0.0                2.0   \n",
      "Zambia                               0.0                0.0   \n",
      "Zimbabwe                             0.0                0.0   \n",
      "\n",
      "                    1928-Amsterdam-Summer  1928-St_Moritz-Winter  \\\n",
      "0                                     NaN                    NaN   \n",
      "1                                     NaN                    NaN   \n",
      "2                                     NaN                    NaN   \n",
      "3                                     NaN                    NaN   \n",
      "4                                     NaN                    NaN   \n",
      "...                                   ...                    ...   \n",
      "Vietnam                               0.0                    0.0   \n",
      "Virgin Islands, US                    0.0                    0.0   \n",
      "Yugoslavia                            5.0                    0.0   \n",
      "Zambia                                0.0                    0.0   \n",
      "Zimbabwe                              0.0                    0.0   \n",
      "\n",
      "                    1932-Lake_Placid-Winter  ...  2006-Turin-Winter  \\\n",
      "0                                       NaN  ...                NaN   \n",
      "1                                       NaN  ...                NaN   \n",
      "2                                       NaN  ...                NaN   \n",
      "3                                       NaN  ...                NaN   \n",
      "4                                       NaN  ...                NaN   \n",
      "...                                     ...  ...                ...   \n",
      "Vietnam                                 0.0  ...                0.0   \n",
      "Virgin Islands, US                      0.0  ...                0.0   \n",
      "Yugoslavia                              0.0  ...                0.0   \n",
      "Zambia                                  0.0  ...                0.0   \n",
      "Zimbabwe                                0.0  ...                0.0   \n",
      "\n",
      "                    2008-Beijing-Summer  2010-Vancouver-Winter  \\\n",
      "0                                   NaN                    NaN   \n",
      "1                                   NaN                    NaN   \n",
      "2                                   NaN                    NaN   \n",
      "3                                   NaN                    NaN   \n",
      "4                                   NaN                    NaN   \n",
      "...                                 ...                    ...   \n",
      "Vietnam                             1.0                    0.0   \n",
      "Virgin Islands, US                  0.0                    0.0   \n",
      "Yugoslavia                          0.0                    0.0   \n",
      "Zambia                              0.0                    0.0   \n",
      "Zimbabwe                            4.0                    0.0   \n",
      "\n",
      "                    2012-London-Summer  2014-Sochi-Winter  2016-Rio-Summer  \\\n",
      "0                                  NaN                NaN              NaN   \n",
      "1                                  NaN                NaN              NaN   \n",
      "2                                  NaN                NaN              NaN   \n",
      "3                                  NaN                NaN              NaN   \n",
      "4                                  NaN                NaN              NaN   \n",
      "...                                ...                ...              ...   \n",
      "Vietnam                            1.0                0.0              2.0   \n",
      "Virgin Islands, US                 0.0                0.0              0.0   \n",
      "Yugoslavia                         0.0                0.0              0.0   \n",
      "Zambia                             0.0                0.0              0.0   \n",
      "Zimbabwe                           0.0                0.0              0.0   \n",
      "\n",
      "                    2018-Pyeongchang-Winter  2020-Tokyo-Summer  \\\n",
      "0                                       NaN                NaN   \n",
      "1                                       NaN                NaN   \n",
      "2                                       NaN                NaN   \n",
      "3                                       NaN                NaN   \n",
      "4                                       NaN                NaN   \n",
      "...                                     ...                ...   \n",
      "Vietnam                                 0.0                0.0   \n",
      "Virgin Islands, US                      0.0                0.0   \n",
      "Yugoslavia                              0.0                0.0   \n",
      "Zambia                                  0.0                0.0   \n",
      "Zimbabwe                                0.0                0.0   \n",
      "\n",
      "                    2022-Beijing-Winter  2024-Paris-Summer  \n",
      "0                                   NaN                NaN  \n",
      "1                                   NaN                NaN  \n",
      "2                                   NaN                NaN  \n",
      "3                                   NaN                NaN  \n",
      "4                                   NaN                NaN  \n",
      "...                                 ...                ...  \n",
      "Vietnam                             0.0                0.0  \n",
      "Virgin Islands, US                  0.0                0.0  \n",
      "Yugoslavia                          0.0                0.0  \n",
      "Zambia                              0.0                1.0  \n",
      "Zimbabwe                            0.0                0.0  \n",
      "\n",
      "[314 rows x 53 columns]\n"
     ]
    }
   ],
   "source": [
    "drzava = MEDALJE.index.to_frame(index=False)\n",
    "stolpci_skupaj = MEDALJE.loc[:, MEDALJE.columns.str.contains(\"skupaj\", case=False)]\n",
    "\n",
    "MEDALJE_SKUPAJ = pd.concat([drzava, stolpci_skupaj], axis=1)\n",
    "MEDALJE_SKUPAJ.columns = MEDALJE_SKUPAJ.columns.str.replace(\"-Skupaj\", \"\", case=False)\n",
    "\n",
    "print(MEDALJE_SKUPAJ)"
   ]
  },
  {
   "cell_type": "markdown",
   "id": "95043cd5",
   "metadata": {},
   "source": [
    "Koliko medalj se je podelilo vsako leto"
   ]
  },
  {
   "cell_type": "markdown",
   "id": "a757220c",
   "metadata": {},
   "source": [
    "## Medalje"
   ]
  },
  {
   "cell_type": "markdown",
   "id": "8d0e23f7",
   "metadata": {},
   "source": [
    "Koliko medalj je bilo podeljenih vsako leto"
   ]
  },
  {
   "cell_type": "code",
   "execution_count": 211,
   "id": "0bf970a9",
   "metadata": {},
   "outputs": [
    {
     "ename": "TypeError",
     "evalue": "can only concatenate str (not \"int\") to str",
     "output_type": "error",
     "traceback": [
      "\u001b[31m---------------------------------------------------------------------------\u001b[39m",
      "\u001b[31mTypeError\u001b[39m                                 Traceback (most recent call last)",
      "\u001b[36mCell\u001b[39m\u001b[36m \u001b[39m\u001b[32mIn[211]\u001b[39m\u001b[32m, line 1\u001b[39m\n\u001b[32m----> \u001b[39m\u001b[32m1\u001b[39m MEDALJE_SKUPAJ.loc[\u001b[33m'\u001b[39m\u001b[33mSkupaj\u001b[39m\u001b[33m'\u001b[39m] = \u001b[43mMEDALJE_SKUPAJ\u001b[49m\u001b[43m.\u001b[49m\u001b[43msum\u001b[49m\u001b[43m(\u001b[49m\u001b[43m)\u001b[49m\n\u001b[32m      2\u001b[39m MEDALJE_SKUPAJ_SUMMER.loc[\u001b[33m'\u001b[39m\u001b[33mSkupaj\u001b[39m\u001b[33m'\u001b[39m] = MEDALJE_SKUPAJ_SUMMER.sum()\n\u001b[32m      3\u001b[39m MEDALJE_SKUPAJ_WINTER.loc[\u001b[33m'\u001b[39m\u001b[33mSkupaj\u001b[39m\u001b[33m'\u001b[39m] = MEDALJE_SKUPAJ_WINTER.sum()\n",
      "\u001b[36mFile \u001b[39m\u001b[32mc:\\Users\\kajab\\AppData\\Local\\Programs\\Python\\Python313\\Lib\\site-packages\\pandas\\core\\frame.py:11677\u001b[39m, in \u001b[36mDataFrame.sum\u001b[39m\u001b[34m(self, axis, skipna, numeric_only, min_count, **kwargs)\u001b[39m\n\u001b[32m  11668\u001b[39m \u001b[38;5;129m@doc\u001b[39m(make_doc(\u001b[33m\"\u001b[39m\u001b[33msum\u001b[39m\u001b[33m\"\u001b[39m, ndim=\u001b[32m2\u001b[39m))\n\u001b[32m  11669\u001b[39m \u001b[38;5;28;01mdef\u001b[39;00m\u001b[38;5;250m \u001b[39m\u001b[34msum\u001b[39m(\n\u001b[32m  11670\u001b[39m     \u001b[38;5;28mself\u001b[39m,\n\u001b[32m   (...)\u001b[39m\u001b[32m  11675\u001b[39m     **kwargs,\n\u001b[32m  11676\u001b[39m ):\n\u001b[32m> \u001b[39m\u001b[32m11677\u001b[39m     result = \u001b[38;5;28;43msuper\u001b[39;49m\u001b[43m(\u001b[49m\u001b[43m)\u001b[49m\u001b[43m.\u001b[49m\u001b[43msum\u001b[49m\u001b[43m(\u001b[49m\u001b[43maxis\u001b[49m\u001b[43m,\u001b[49m\u001b[43m \u001b[49m\u001b[43mskipna\u001b[49m\u001b[43m,\u001b[49m\u001b[43m \u001b[49m\u001b[43mnumeric_only\u001b[49m\u001b[43m,\u001b[49m\u001b[43m \u001b[49m\u001b[43mmin_count\u001b[49m\u001b[43m,\u001b[49m\u001b[43m \u001b[49m\u001b[43m*\u001b[49m\u001b[43m*\u001b[49m\u001b[43mkwargs\u001b[49m\u001b[43m)\u001b[49m\n\u001b[32m  11678\u001b[39m     \u001b[38;5;28;01mreturn\u001b[39;00m result.__finalize__(\u001b[38;5;28mself\u001b[39m, method=\u001b[33m\"\u001b[39m\u001b[33msum\u001b[39m\u001b[33m\"\u001b[39m)\n",
      "\u001b[36mFile \u001b[39m\u001b[32mc:\\Users\\kajab\\AppData\\Local\\Programs\\Python\\Python313\\Lib\\site-packages\\pandas\\core\\generic.py:12525\u001b[39m, in \u001b[36mNDFrame.sum\u001b[39m\u001b[34m(self, axis, skipna, numeric_only, min_count, **kwargs)\u001b[39m\n\u001b[32m  12517\u001b[39m \u001b[38;5;28;01mdef\u001b[39;00m\u001b[38;5;250m \u001b[39m\u001b[34msum\u001b[39m(\n\u001b[32m  12518\u001b[39m     \u001b[38;5;28mself\u001b[39m,\n\u001b[32m  12519\u001b[39m     axis: Axis | \u001b[38;5;28;01mNone\u001b[39;00m = \u001b[32m0\u001b[39m,\n\u001b[32m   (...)\u001b[39m\u001b[32m  12523\u001b[39m     **kwargs,\n\u001b[32m  12524\u001b[39m ):\n\u001b[32m> \u001b[39m\u001b[32m12525\u001b[39m     \u001b[38;5;28;01mreturn\u001b[39;00m \u001b[38;5;28;43mself\u001b[39;49m\u001b[43m.\u001b[49m\u001b[43m_min_count_stat_function\u001b[49m\u001b[43m(\u001b[49m\n\u001b[32m  12526\u001b[39m \u001b[43m        \u001b[49m\u001b[33;43m\"\u001b[39;49m\u001b[33;43msum\u001b[39;49m\u001b[33;43m\"\u001b[39;49m\u001b[43m,\u001b[49m\u001b[43m \u001b[49m\u001b[43mnanops\u001b[49m\u001b[43m.\u001b[49m\u001b[43mnansum\u001b[49m\u001b[43m,\u001b[49m\u001b[43m \u001b[49m\u001b[43maxis\u001b[49m\u001b[43m,\u001b[49m\u001b[43m \u001b[49m\u001b[43mskipna\u001b[49m\u001b[43m,\u001b[49m\u001b[43m \u001b[49m\u001b[43mnumeric_only\u001b[49m\u001b[43m,\u001b[49m\u001b[43m \u001b[49m\u001b[43mmin_count\u001b[49m\u001b[43m,\u001b[49m\u001b[43m \u001b[49m\u001b[43m*\u001b[49m\u001b[43m*\u001b[49m\u001b[43mkwargs\u001b[49m\n\u001b[32m  12527\u001b[39m \u001b[43m    \u001b[49m\u001b[43m)\u001b[49m\n",
      "\u001b[36mFile \u001b[39m\u001b[32mc:\\Users\\kajab\\AppData\\Local\\Programs\\Python\\Python313\\Lib\\site-packages\\pandas\\core\\generic.py:12508\u001b[39m, in \u001b[36mNDFrame._min_count_stat_function\u001b[39m\u001b[34m(self, name, func, axis, skipna, numeric_only, min_count, **kwargs)\u001b[39m\n\u001b[32m  12505\u001b[39m \u001b[38;5;28;01melif\u001b[39;00m axis \u001b[38;5;129;01mis\u001b[39;00m lib.no_default:\n\u001b[32m  12506\u001b[39m     axis = \u001b[32m0\u001b[39m\n\u001b[32m> \u001b[39m\u001b[32m12508\u001b[39m \u001b[38;5;28;01mreturn\u001b[39;00m \u001b[38;5;28;43mself\u001b[39;49m\u001b[43m.\u001b[49m\u001b[43m_reduce\u001b[49m\u001b[43m(\u001b[49m\n\u001b[32m  12509\u001b[39m \u001b[43m    \u001b[49m\u001b[43mfunc\u001b[49m\u001b[43m,\u001b[49m\n\u001b[32m  12510\u001b[39m \u001b[43m    \u001b[49m\u001b[43mname\u001b[49m\u001b[43m=\u001b[49m\u001b[43mname\u001b[49m\u001b[43m,\u001b[49m\n\u001b[32m  12511\u001b[39m \u001b[43m    \u001b[49m\u001b[43maxis\u001b[49m\u001b[43m=\u001b[49m\u001b[43maxis\u001b[49m\u001b[43m,\u001b[49m\n\u001b[32m  12512\u001b[39m \u001b[43m    \u001b[49m\u001b[43mskipna\u001b[49m\u001b[43m=\u001b[49m\u001b[43mskipna\u001b[49m\u001b[43m,\u001b[49m\n\u001b[32m  12513\u001b[39m \u001b[43m    \u001b[49m\u001b[43mnumeric_only\u001b[49m\u001b[43m=\u001b[49m\u001b[43mnumeric_only\u001b[49m\u001b[43m,\u001b[49m\n\u001b[32m  12514\u001b[39m \u001b[43m    \u001b[49m\u001b[43mmin_count\u001b[49m\u001b[43m=\u001b[49m\u001b[43mmin_count\u001b[49m\u001b[43m,\u001b[49m\n\u001b[32m  12515\u001b[39m \u001b[43m\u001b[49m\u001b[43m)\u001b[49m\n",
      "\u001b[36mFile \u001b[39m\u001b[32mc:\\Users\\kajab\\AppData\\Local\\Programs\\Python\\Python313\\Lib\\site-packages\\pandas\\core\\frame.py:11569\u001b[39m, in \u001b[36mDataFrame._reduce\u001b[39m\u001b[34m(self, op, name, axis, skipna, numeric_only, filter_type, **kwds)\u001b[39m\n\u001b[32m  11565\u001b[39m     df = df.T\n\u001b[32m  11567\u001b[39m \u001b[38;5;66;03m# After possibly _get_data and transposing, we are now in the\u001b[39;00m\n\u001b[32m  11568\u001b[39m \u001b[38;5;66;03m#  simple case where we can use BlockManager.reduce\u001b[39;00m\n\u001b[32m> \u001b[39m\u001b[32m11569\u001b[39m res = \u001b[43mdf\u001b[49m\u001b[43m.\u001b[49m\u001b[43m_mgr\u001b[49m\u001b[43m.\u001b[49m\u001b[43mreduce\u001b[49m\u001b[43m(\u001b[49m\u001b[43mblk_func\u001b[49m\u001b[43m)\u001b[49m\n\u001b[32m  11570\u001b[39m out = df._constructor_from_mgr(res, axes=res.axes).iloc[\u001b[32m0\u001b[39m]\n\u001b[32m  11571\u001b[39m \u001b[38;5;28;01mif\u001b[39;00m out_dtype \u001b[38;5;129;01mis\u001b[39;00m \u001b[38;5;129;01mnot\u001b[39;00m \u001b[38;5;28;01mNone\u001b[39;00m \u001b[38;5;129;01mand\u001b[39;00m out.dtype != \u001b[33m\"\u001b[39m\u001b[33mboolean\u001b[39m\u001b[33m\"\u001b[39m:\n",
      "\u001b[36mFile \u001b[39m\u001b[32mc:\\Users\\kajab\\AppData\\Local\\Programs\\Python\\Python313\\Lib\\site-packages\\pandas\\core\\internals\\managers.py:1500\u001b[39m, in \u001b[36mBlockManager.reduce\u001b[39m\u001b[34m(self, func)\u001b[39m\n\u001b[32m   1498\u001b[39m res_blocks: \u001b[38;5;28mlist\u001b[39m[Block] = []\n\u001b[32m   1499\u001b[39m \u001b[38;5;28;01mfor\u001b[39;00m blk \u001b[38;5;129;01min\u001b[39;00m \u001b[38;5;28mself\u001b[39m.blocks:\n\u001b[32m-> \u001b[39m\u001b[32m1500\u001b[39m     nbs = \u001b[43mblk\u001b[49m\u001b[43m.\u001b[49m\u001b[43mreduce\u001b[49m\u001b[43m(\u001b[49m\u001b[43mfunc\u001b[49m\u001b[43m)\u001b[49m\n\u001b[32m   1501\u001b[39m     res_blocks.extend(nbs)\n\u001b[32m   1503\u001b[39m index = Index([\u001b[38;5;28;01mNone\u001b[39;00m])  \u001b[38;5;66;03m# placeholder\u001b[39;00m\n",
      "\u001b[36mFile \u001b[39m\u001b[32mc:\\Users\\kajab\\AppData\\Local\\Programs\\Python\\Python313\\Lib\\site-packages\\pandas\\core\\internals\\blocks.py:406\u001b[39m, in \u001b[36mBlock.reduce\u001b[39m\u001b[34m(self, func)\u001b[39m\n\u001b[32m    400\u001b[39m \u001b[38;5;129m@final\u001b[39m\n\u001b[32m    401\u001b[39m \u001b[38;5;28;01mdef\u001b[39;00m\u001b[38;5;250m \u001b[39m\u001b[34mreduce\u001b[39m(\u001b[38;5;28mself\u001b[39m, func) -> \u001b[38;5;28mlist\u001b[39m[Block]:\n\u001b[32m    402\u001b[39m     \u001b[38;5;66;03m# We will apply the function and reshape the result into a single-row\u001b[39;00m\n\u001b[32m    403\u001b[39m     \u001b[38;5;66;03m#  Block with the same mgr_locs; squeezing will be done at a higher level\u001b[39;00m\n\u001b[32m    404\u001b[39m     \u001b[38;5;28;01massert\u001b[39;00m \u001b[38;5;28mself\u001b[39m.ndim == \u001b[32m2\u001b[39m\n\u001b[32m--> \u001b[39m\u001b[32m406\u001b[39m     result = \u001b[43mfunc\u001b[49m\u001b[43m(\u001b[49m\u001b[38;5;28;43mself\u001b[39;49m\u001b[43m.\u001b[49m\u001b[43mvalues\u001b[49m\u001b[43m)\u001b[49m\n\u001b[32m    408\u001b[39m     \u001b[38;5;28;01mif\u001b[39;00m \u001b[38;5;28mself\u001b[39m.values.ndim == \u001b[32m1\u001b[39m:\n\u001b[32m    409\u001b[39m         res_values = result\n",
      "\u001b[36mFile \u001b[39m\u001b[32mc:\\Users\\kajab\\AppData\\Local\\Programs\\Python\\Python313\\Lib\\site-packages\\pandas\\core\\frame.py:11488\u001b[39m, in \u001b[36mDataFrame._reduce.<locals>.blk_func\u001b[39m\u001b[34m(values, axis)\u001b[39m\n\u001b[32m  11486\u001b[39m         \u001b[38;5;28;01mreturn\u001b[39;00m np.array([result])\n\u001b[32m  11487\u001b[39m \u001b[38;5;28;01melse\u001b[39;00m:\n\u001b[32m> \u001b[39m\u001b[32m11488\u001b[39m     \u001b[38;5;28;01mreturn\u001b[39;00m \u001b[43mop\u001b[49m\u001b[43m(\u001b[49m\u001b[43mvalues\u001b[49m\u001b[43m,\u001b[49m\u001b[43m \u001b[49m\u001b[43maxis\u001b[49m\u001b[43m=\u001b[49m\u001b[43maxis\u001b[49m\u001b[43m,\u001b[49m\u001b[43m \u001b[49m\u001b[43mskipna\u001b[49m\u001b[43m=\u001b[49m\u001b[43mskipna\u001b[49m\u001b[43m,\u001b[49m\u001b[43m \u001b[49m\u001b[43m*\u001b[49m\u001b[43m*\u001b[49m\u001b[43mkwds\u001b[49m\u001b[43m)\u001b[49m\n",
      "\u001b[36mFile \u001b[39m\u001b[32mc:\\Users\\kajab\\AppData\\Local\\Programs\\Python\\Python313\\Lib\\site-packages\\pandas\\core\\nanops.py:85\u001b[39m, in \u001b[36mdisallow.__call__.<locals>._f\u001b[39m\u001b[34m(*args, **kwargs)\u001b[39m\n\u001b[32m     81\u001b[39m     \u001b[38;5;28;01mraise\u001b[39;00m \u001b[38;5;167;01mTypeError\u001b[39;00m(\n\u001b[32m     82\u001b[39m         \u001b[33mf\u001b[39m\u001b[33m\"\u001b[39m\u001b[33mreduction operation \u001b[39m\u001b[33m'\u001b[39m\u001b[38;5;132;01m{\u001b[39;00mf_name\u001b[38;5;132;01m}\u001b[39;00m\u001b[33m'\u001b[39m\u001b[33m not allowed for this dtype\u001b[39m\u001b[33m\"\u001b[39m\n\u001b[32m     83\u001b[39m     )\n\u001b[32m     84\u001b[39m \u001b[38;5;28;01mtry\u001b[39;00m:\n\u001b[32m---> \u001b[39m\u001b[32m85\u001b[39m     \u001b[38;5;28;01mreturn\u001b[39;00m \u001b[43mf\u001b[49m\u001b[43m(\u001b[49m\u001b[43m*\u001b[49m\u001b[43margs\u001b[49m\u001b[43m,\u001b[49m\u001b[43m \u001b[49m\u001b[43m*\u001b[49m\u001b[43m*\u001b[49m\u001b[43mkwargs\u001b[49m\u001b[43m)\u001b[49m\n\u001b[32m     86\u001b[39m \u001b[38;5;28;01mexcept\u001b[39;00m \u001b[38;5;167;01mValueError\u001b[39;00m \u001b[38;5;28;01mas\u001b[39;00m e:\n\u001b[32m     87\u001b[39m     \u001b[38;5;66;03m# we want to transform an object array\u001b[39;00m\n\u001b[32m     88\u001b[39m     \u001b[38;5;66;03m# ValueError message to the more typical TypeError\u001b[39;00m\n\u001b[32m     89\u001b[39m     \u001b[38;5;66;03m# e.g. this is normally a disallowed function on\u001b[39;00m\n\u001b[32m     90\u001b[39m     \u001b[38;5;66;03m# object arrays that contain strings\u001b[39;00m\n\u001b[32m     91\u001b[39m     \u001b[38;5;28;01mif\u001b[39;00m is_object_dtype(args[\u001b[32m0\u001b[39m]):\n",
      "\u001b[36mFile \u001b[39m\u001b[32mc:\\Users\\kajab\\AppData\\Local\\Programs\\Python\\Python313\\Lib\\site-packages\\pandas\\core\\nanops.py:404\u001b[39m, in \u001b[36m_datetimelike_compat.<locals>.new_func\u001b[39m\u001b[34m(values, axis, skipna, mask, **kwargs)\u001b[39m\n\u001b[32m    401\u001b[39m \u001b[38;5;28;01mif\u001b[39;00m datetimelike \u001b[38;5;129;01mand\u001b[39;00m mask \u001b[38;5;129;01mis\u001b[39;00m \u001b[38;5;28;01mNone\u001b[39;00m:\n\u001b[32m    402\u001b[39m     mask = isna(values)\n\u001b[32m--> \u001b[39m\u001b[32m404\u001b[39m result = \u001b[43mfunc\u001b[49m\u001b[43m(\u001b[49m\u001b[43mvalues\u001b[49m\u001b[43m,\u001b[49m\u001b[43m \u001b[49m\u001b[43maxis\u001b[49m\u001b[43m=\u001b[49m\u001b[43maxis\u001b[49m\u001b[43m,\u001b[49m\u001b[43m \u001b[49m\u001b[43mskipna\u001b[49m\u001b[43m=\u001b[49m\u001b[43mskipna\u001b[49m\u001b[43m,\u001b[49m\u001b[43m \u001b[49m\u001b[43mmask\u001b[49m\u001b[43m=\u001b[49m\u001b[43mmask\u001b[49m\u001b[43m,\u001b[49m\u001b[43m \u001b[49m\u001b[43m*\u001b[49m\u001b[43m*\u001b[49m\u001b[43mkwargs\u001b[49m\u001b[43m)\u001b[49m\n\u001b[32m    406\u001b[39m \u001b[38;5;28;01mif\u001b[39;00m datetimelike:\n\u001b[32m    407\u001b[39m     result = _wrap_results(result, orig_values.dtype, fill_value=iNaT)\n",
      "\u001b[36mFile \u001b[39m\u001b[32mc:\\Users\\kajab\\AppData\\Local\\Programs\\Python\\Python313\\Lib\\site-packages\\pandas\\core\\nanops.py:477\u001b[39m, in \u001b[36mmaybe_operate_rowwise.<locals>.newfunc\u001b[39m\u001b[34m(values, axis, **kwargs)\u001b[39m\n\u001b[32m    474\u001b[39m         results = [func(x, **kwargs) \u001b[38;5;28;01mfor\u001b[39;00m x \u001b[38;5;129;01min\u001b[39;00m arrs]\n\u001b[32m    475\u001b[39m     \u001b[38;5;28;01mreturn\u001b[39;00m np.array(results)\n\u001b[32m--> \u001b[39m\u001b[32m477\u001b[39m \u001b[38;5;28;01mreturn\u001b[39;00m \u001b[43mfunc\u001b[49m\u001b[43m(\u001b[49m\u001b[43mvalues\u001b[49m\u001b[43m,\u001b[49m\u001b[43m \u001b[49m\u001b[43maxis\u001b[49m\u001b[43m=\u001b[49m\u001b[43maxis\u001b[49m\u001b[43m,\u001b[49m\u001b[43m \u001b[49m\u001b[43m*\u001b[49m\u001b[43m*\u001b[49m\u001b[43mkwargs\u001b[49m\u001b[43m)\u001b[49m\n",
      "\u001b[36mFile \u001b[39m\u001b[32mc:\\Users\\kajab\\AppData\\Local\\Programs\\Python\\Python313\\Lib\\site-packages\\pandas\\core\\nanops.py:646\u001b[39m, in \u001b[36mnansum\u001b[39m\u001b[34m(values, axis, skipna, min_count, mask)\u001b[39m\n\u001b[32m    643\u001b[39m \u001b[38;5;28;01melif\u001b[39;00m dtype.kind == \u001b[33m\"\u001b[39m\u001b[33mm\u001b[39m\u001b[33m\"\u001b[39m:\n\u001b[32m    644\u001b[39m     dtype_sum = np.dtype(np.float64)\n\u001b[32m--> \u001b[39m\u001b[32m646\u001b[39m the_sum = \u001b[43mvalues\u001b[49m\u001b[43m.\u001b[49m\u001b[43msum\u001b[49m\u001b[43m(\u001b[49m\u001b[43maxis\u001b[49m\u001b[43m,\u001b[49m\u001b[43m \u001b[49m\u001b[43mdtype\u001b[49m\u001b[43m=\u001b[49m\u001b[43mdtype_sum\u001b[49m\u001b[43m)\u001b[49m\n\u001b[32m    647\u001b[39m the_sum = _maybe_null_out(the_sum, axis, mask, values.shape, min_count=min_count)\n\u001b[32m    649\u001b[39m \u001b[38;5;28;01mreturn\u001b[39;00m the_sum\n",
      "\u001b[36mFile \u001b[39m\u001b[32mc:\\Users\\kajab\\AppData\\Local\\Programs\\Python\\Python313\\Lib\\site-packages\\numpy\\_core\\_methods.py:51\u001b[39m, in \u001b[36m_sum\u001b[39m\u001b[34m(a, axis, dtype, out, keepdims, initial, where)\u001b[39m\n\u001b[32m     49\u001b[39m \u001b[38;5;28;01mdef\u001b[39;00m\u001b[38;5;250m \u001b[39m\u001b[34m_sum\u001b[39m(a, axis=\u001b[38;5;28;01mNone\u001b[39;00m, dtype=\u001b[38;5;28;01mNone\u001b[39;00m, out=\u001b[38;5;28;01mNone\u001b[39;00m, keepdims=\u001b[38;5;28;01mFalse\u001b[39;00m,\n\u001b[32m     50\u001b[39m          initial=_NoValue, where=\u001b[38;5;28;01mTrue\u001b[39;00m):\n\u001b[32m---> \u001b[39m\u001b[32m51\u001b[39m     \u001b[38;5;28;01mreturn\u001b[39;00m \u001b[43mumr_sum\u001b[49m\u001b[43m(\u001b[49m\u001b[43ma\u001b[49m\u001b[43m,\u001b[49m\u001b[43m \u001b[49m\u001b[43maxis\u001b[49m\u001b[43m,\u001b[49m\u001b[43m \u001b[49m\u001b[43mdtype\u001b[49m\u001b[43m,\u001b[49m\u001b[43m \u001b[49m\u001b[43mout\u001b[49m\u001b[43m,\u001b[49m\u001b[43m \u001b[49m\u001b[43mkeepdims\u001b[49m\u001b[43m,\u001b[49m\u001b[43m \u001b[49m\u001b[43minitial\u001b[49m\u001b[43m,\u001b[49m\u001b[43m \u001b[49m\u001b[43mwhere\u001b[49m\u001b[43m)\u001b[49m\n",
      "\u001b[31mTypeError\u001b[39m: can only concatenate str (not \"int\") to str"
     ]
    }
   ],
   "source": [
    "MEDALJE_SKUPAJ.loc['Skupaj'] = MEDALJE_SKUPAJ.sum()\n",
    "MEDALJE_SKUPAJ_SUMMER.loc['Skupaj'] = MEDALJE_SKUPAJ_SUMMER.sum()\n",
    "MEDALJE_SKUPAJ_WINTER.loc['Skupaj'] = MEDALJE_SKUPAJ_WINTER.sum()"
   ]
  },
  {
   "cell_type": "code",
   "execution_count": null,
   "id": "37760578",
   "metadata": {},
   "outputs": [],
   "source": [
    "MEDALJE_SKUPAJ2_SUMMER.loc['Skupaj'] = MEDALJE_SKUPAJ_SUMMER.sum()\n",
    "MEDALJE_SKUPAJ2_WINTER.loc['Skupaj'] = MEDALJE_SKUPAJ_WINTER.sum()"
   ]
  },
  {
   "cell_type": "code",
   "execution_count": 199,
   "id": "94b9d74f",
   "metadata": {},
   "outputs": [
    {
     "ename": "KeyError",
     "evalue": "'Skupaj'",
     "output_type": "error",
     "traceback": [
      "\u001b[31m---------------------------------------------------------------------------\u001b[39m",
      "\u001b[31mKeyError\u001b[39m                                  Traceback (most recent call last)",
      "\u001b[36mFile \u001b[39m\u001b[32mc:\\Users\\kajab\\AppData\\Local\\Programs\\Python\\Python313\\Lib\\site-packages\\pandas\\core\\indexes\\base.py:3812\u001b[39m, in \u001b[36mIndex.get_loc\u001b[39m\u001b[34m(self, key)\u001b[39m\n\u001b[32m   3811\u001b[39m \u001b[38;5;28;01mtry\u001b[39;00m:\n\u001b[32m-> \u001b[39m\u001b[32m3812\u001b[39m     \u001b[38;5;28;01mreturn\u001b[39;00m \u001b[38;5;28;43mself\u001b[39;49m\u001b[43m.\u001b[49m\u001b[43m_engine\u001b[49m\u001b[43m.\u001b[49m\u001b[43mget_loc\u001b[49m\u001b[43m(\u001b[49m\u001b[43mcasted_key\u001b[49m\u001b[43m)\u001b[49m\n\u001b[32m   3813\u001b[39m \u001b[38;5;28;01mexcept\u001b[39;00m \u001b[38;5;167;01mKeyError\u001b[39;00m \u001b[38;5;28;01mas\u001b[39;00m err:\n",
      "\u001b[36mFile \u001b[39m\u001b[32mpandas/_libs/index.pyx:167\u001b[39m, in \u001b[36mpandas._libs.index.IndexEngine.get_loc\u001b[39m\u001b[34m()\u001b[39m\n",
      "\u001b[36mFile \u001b[39m\u001b[32mpandas/_libs/index.pyx:196\u001b[39m, in \u001b[36mpandas._libs.index.IndexEngine.get_loc\u001b[39m\u001b[34m()\u001b[39m\n",
      "\u001b[36mFile \u001b[39m\u001b[32mpandas/_libs/hashtable_class_helper.pxi:7088\u001b[39m, in \u001b[36mpandas._libs.hashtable.PyObjectHashTable.get_item\u001b[39m\u001b[34m()\u001b[39m\n",
      "\u001b[36mFile \u001b[39m\u001b[32mpandas/_libs/hashtable_class_helper.pxi:7096\u001b[39m, in \u001b[36mpandas._libs.hashtable.PyObjectHashTable.get_item\u001b[39m\u001b[34m()\u001b[39m\n",
      "\u001b[31mKeyError\u001b[39m: 'Skupaj'",
      "\nThe above exception was the direct cause of the following exception:\n",
      "\u001b[31mKeyError\u001b[39m                                  Traceback (most recent call last)",
      "\u001b[36mCell\u001b[39m\u001b[36m \u001b[39m\u001b[32mIn[199]\u001b[39m\u001b[32m, line 1\u001b[39m\n\u001b[32m----> \u001b[39m\u001b[32m1\u001b[39m \u001b[43mMEDALJE_SKUPAJ2_SUMMER\u001b[49m\u001b[43m.\u001b[49m\u001b[43mloc\u001b[49m\u001b[43m[\u001b[49m\u001b[33;43m'\u001b[39;49m\u001b[33;43mSkupaj\u001b[39;49m\u001b[33;43m'\u001b[39;49m\u001b[43m]\u001b[49m.plot.bar()\n",
      "\u001b[36mFile \u001b[39m\u001b[32mc:\\Users\\kajab\\AppData\\Local\\Programs\\Python\\Python313\\Lib\\site-packages\\pandas\\core\\indexing.py:1191\u001b[39m, in \u001b[36m_LocationIndexer.__getitem__\u001b[39m\u001b[34m(self, key)\u001b[39m\n\u001b[32m   1189\u001b[39m maybe_callable = com.apply_if_callable(key, \u001b[38;5;28mself\u001b[39m.obj)\n\u001b[32m   1190\u001b[39m maybe_callable = \u001b[38;5;28mself\u001b[39m._check_deprecated_callable_usage(key, maybe_callable)\n\u001b[32m-> \u001b[39m\u001b[32m1191\u001b[39m \u001b[38;5;28;01mreturn\u001b[39;00m \u001b[38;5;28;43mself\u001b[39;49m\u001b[43m.\u001b[49m\u001b[43m_getitem_axis\u001b[49m\u001b[43m(\u001b[49m\u001b[43mmaybe_callable\u001b[49m\u001b[43m,\u001b[49m\u001b[43m \u001b[49m\u001b[43maxis\u001b[49m\u001b[43m=\u001b[49m\u001b[43maxis\u001b[49m\u001b[43m)\u001b[49m\n",
      "\u001b[36mFile \u001b[39m\u001b[32mc:\\Users\\kajab\\AppData\\Local\\Programs\\Python\\Python313\\Lib\\site-packages\\pandas\\core\\indexing.py:1431\u001b[39m, in \u001b[36m_LocIndexer._getitem_axis\u001b[39m\u001b[34m(self, key, axis)\u001b[39m\n\u001b[32m   1429\u001b[39m \u001b[38;5;66;03m# fall thru to straight lookup\u001b[39;00m\n\u001b[32m   1430\u001b[39m \u001b[38;5;28mself\u001b[39m._validate_key(key, axis)\n\u001b[32m-> \u001b[39m\u001b[32m1431\u001b[39m \u001b[38;5;28;01mreturn\u001b[39;00m \u001b[38;5;28;43mself\u001b[39;49m\u001b[43m.\u001b[49m\u001b[43m_get_label\u001b[49m\u001b[43m(\u001b[49m\u001b[43mkey\u001b[49m\u001b[43m,\u001b[49m\u001b[43m \u001b[49m\u001b[43maxis\u001b[49m\u001b[43m=\u001b[49m\u001b[43maxis\u001b[49m\u001b[43m)\u001b[49m\n",
      "\u001b[36mFile \u001b[39m\u001b[32mc:\\Users\\kajab\\AppData\\Local\\Programs\\Python\\Python313\\Lib\\site-packages\\pandas\\core\\indexing.py:1381\u001b[39m, in \u001b[36m_LocIndexer._get_label\u001b[39m\u001b[34m(self, label, axis)\u001b[39m\n\u001b[32m   1379\u001b[39m \u001b[38;5;28;01mdef\u001b[39;00m\u001b[38;5;250m \u001b[39m\u001b[34m_get_label\u001b[39m(\u001b[38;5;28mself\u001b[39m, label, axis: AxisInt):\n\u001b[32m   1380\u001b[39m     \u001b[38;5;66;03m# GH#5567 this will fail if the label is not present in the axis.\u001b[39;00m\n\u001b[32m-> \u001b[39m\u001b[32m1381\u001b[39m     \u001b[38;5;28;01mreturn\u001b[39;00m \u001b[38;5;28;43mself\u001b[39;49m\u001b[43m.\u001b[49m\u001b[43mobj\u001b[49m\u001b[43m.\u001b[49m\u001b[43mxs\u001b[49m\u001b[43m(\u001b[49m\u001b[43mlabel\u001b[49m\u001b[43m,\u001b[49m\u001b[43m \u001b[49m\u001b[43maxis\u001b[49m\u001b[43m=\u001b[49m\u001b[43maxis\u001b[49m\u001b[43m)\u001b[49m\n",
      "\u001b[36mFile \u001b[39m\u001b[32mc:\\Users\\kajab\\AppData\\Local\\Programs\\Python\\Python313\\Lib\\site-packages\\pandas\\core\\generic.py:4320\u001b[39m, in \u001b[36mNDFrame.xs\u001b[39m\u001b[34m(self, key, axis, level, drop_level)\u001b[39m\n\u001b[32m   4318\u001b[39m             new_index = index[loc]\n\u001b[32m   4319\u001b[39m \u001b[38;5;28;01melse\u001b[39;00m:\n\u001b[32m-> \u001b[39m\u001b[32m4320\u001b[39m     loc = \u001b[43mindex\u001b[49m\u001b[43m.\u001b[49m\u001b[43mget_loc\u001b[49m\u001b[43m(\u001b[49m\u001b[43mkey\u001b[49m\u001b[43m)\u001b[49m\n\u001b[32m   4322\u001b[39m     \u001b[38;5;28;01mif\u001b[39;00m \u001b[38;5;28misinstance\u001b[39m(loc, np.ndarray):\n\u001b[32m   4323\u001b[39m         \u001b[38;5;28;01mif\u001b[39;00m loc.dtype == np.bool_:\n",
      "\u001b[36mFile \u001b[39m\u001b[32mc:\\Users\\kajab\\AppData\\Local\\Programs\\Python\\Python313\\Lib\\site-packages\\pandas\\core\\indexes\\base.py:3819\u001b[39m, in \u001b[36mIndex.get_loc\u001b[39m\u001b[34m(self, key)\u001b[39m\n\u001b[32m   3814\u001b[39m     \u001b[38;5;28;01mif\u001b[39;00m \u001b[38;5;28misinstance\u001b[39m(casted_key, \u001b[38;5;28mslice\u001b[39m) \u001b[38;5;129;01mor\u001b[39;00m (\n\u001b[32m   3815\u001b[39m         \u001b[38;5;28misinstance\u001b[39m(casted_key, abc.Iterable)\n\u001b[32m   3816\u001b[39m         \u001b[38;5;129;01mand\u001b[39;00m \u001b[38;5;28many\u001b[39m(\u001b[38;5;28misinstance\u001b[39m(x, \u001b[38;5;28mslice\u001b[39m) \u001b[38;5;28;01mfor\u001b[39;00m x \u001b[38;5;129;01min\u001b[39;00m casted_key)\n\u001b[32m   3817\u001b[39m     ):\n\u001b[32m   3818\u001b[39m         \u001b[38;5;28;01mraise\u001b[39;00m InvalidIndexError(key)\n\u001b[32m-> \u001b[39m\u001b[32m3819\u001b[39m     \u001b[38;5;28;01mraise\u001b[39;00m \u001b[38;5;167;01mKeyError\u001b[39;00m(key) \u001b[38;5;28;01mfrom\u001b[39;00m\u001b[38;5;250m \u001b[39m\u001b[34;01merr\u001b[39;00m\n\u001b[32m   3820\u001b[39m \u001b[38;5;28;01mexcept\u001b[39;00m \u001b[38;5;167;01mTypeError\u001b[39;00m:\n\u001b[32m   3821\u001b[39m     \u001b[38;5;66;03m# If we have a listlike key, _check_indexing_error will raise\u001b[39;00m\n\u001b[32m   3822\u001b[39m     \u001b[38;5;66;03m#  InvalidIndexError. Otherwise we fall through and re-raise\u001b[39;00m\n\u001b[32m   3823\u001b[39m     \u001b[38;5;66;03m#  the TypeError.\u001b[39;00m\n\u001b[32m   3824\u001b[39m     \u001b[38;5;28mself\u001b[39m._check_indexing_error(key)\n",
      "\u001b[31mKeyError\u001b[39m: 'Skupaj'"
     ]
    }
   ],
   "source": [
    "MEDALJE_SKUPAJ2_SUMMER.loc['Skupaj'].plot.bar()"
   ]
  },
  {
   "cell_type": "code",
   "execution_count": 175,
   "id": "2fca9351",
   "metadata": {},
   "outputs": [
    {
     "ename": "KeyError",
     "evalue": "'Skupaj'",
     "output_type": "error",
     "traceback": [
      "\u001b[31m---------------------------------------------------------------------------\u001b[39m",
      "\u001b[31mKeyError\u001b[39m                                  Traceback (most recent call last)",
      "\u001b[36mFile \u001b[39m\u001b[32mc:\\Users\\kajab\\AppData\\Local\\Programs\\Python\\Python313\\Lib\\site-packages\\pandas\\core\\indexes\\base.py:3812\u001b[39m, in \u001b[36mIndex.get_loc\u001b[39m\u001b[34m(self, key)\u001b[39m\n\u001b[32m   3811\u001b[39m \u001b[38;5;28;01mtry\u001b[39;00m:\n\u001b[32m-> \u001b[39m\u001b[32m3812\u001b[39m     \u001b[38;5;28;01mreturn\u001b[39;00m \u001b[38;5;28;43mself\u001b[39;49m\u001b[43m.\u001b[49m\u001b[43m_engine\u001b[49m\u001b[43m.\u001b[49m\u001b[43mget_loc\u001b[49m\u001b[43m(\u001b[49m\u001b[43mcasted_key\u001b[49m\u001b[43m)\u001b[49m\n\u001b[32m   3813\u001b[39m \u001b[38;5;28;01mexcept\u001b[39;00m \u001b[38;5;167;01mKeyError\u001b[39;00m \u001b[38;5;28;01mas\u001b[39;00m err:\n",
      "\u001b[36mFile \u001b[39m\u001b[32mpandas/_libs/index.pyx:167\u001b[39m, in \u001b[36mpandas._libs.index.IndexEngine.get_loc\u001b[39m\u001b[34m()\u001b[39m\n",
      "\u001b[36mFile \u001b[39m\u001b[32mpandas/_libs/index.pyx:196\u001b[39m, in \u001b[36mpandas._libs.index.IndexEngine.get_loc\u001b[39m\u001b[34m()\u001b[39m\n",
      "\u001b[36mFile \u001b[39m\u001b[32mpandas/_libs/hashtable_class_helper.pxi:7088\u001b[39m, in \u001b[36mpandas._libs.hashtable.PyObjectHashTable.get_item\u001b[39m\u001b[34m()\u001b[39m\n",
      "\u001b[36mFile \u001b[39m\u001b[32mpandas/_libs/hashtable_class_helper.pxi:7096\u001b[39m, in \u001b[36mpandas._libs.hashtable.PyObjectHashTable.get_item\u001b[39m\u001b[34m()\u001b[39m\n",
      "\u001b[31mKeyError\u001b[39m: 'Skupaj'",
      "\nThe above exception was the direct cause of the following exception:\n",
      "\u001b[31mKeyError\u001b[39m                                  Traceback (most recent call last)",
      "\u001b[36mCell\u001b[39m\u001b[36m \u001b[39m\u001b[32mIn[175]\u001b[39m\u001b[32m, line 1\u001b[39m\n\u001b[32m----> \u001b[39m\u001b[32m1\u001b[39m \u001b[43mMEDALJE_SKUPAJ2_SUMMER\u001b[49m\u001b[43m.\u001b[49m\u001b[43mloc\u001b[49m\u001b[43m[\u001b[49m\u001b[33;43m'\u001b[39;49m\u001b[33;43mSkupaj\u001b[39;49m\u001b[33;43m'\u001b[39;49m\u001b[43m]\u001b[49m.plot.bar(title=\u001b[33m\"\u001b[39m\u001b[33mSkupaj osvojenih medalj po igrah na poletnih olimpijskih igrah\u001b[39m\u001b[33m\"\u001b[39m, ylabel=\u001b[33m\"\u001b[39m\u001b[33mŠtevilo osvojenih medalj\u001b[39m\u001b[33m\"\u001b[39m, xlabel=\u001b[33m\"\u001b[39m\u001b[33mLeta\u001b[39m\u001b[33m\"\u001b[39m)\n",
      "\u001b[36mFile \u001b[39m\u001b[32mc:\\Users\\kajab\\AppData\\Local\\Programs\\Python\\Python313\\Lib\\site-packages\\pandas\\core\\indexing.py:1191\u001b[39m, in \u001b[36m_LocationIndexer.__getitem__\u001b[39m\u001b[34m(self, key)\u001b[39m\n\u001b[32m   1189\u001b[39m maybe_callable = com.apply_if_callable(key, \u001b[38;5;28mself\u001b[39m.obj)\n\u001b[32m   1190\u001b[39m maybe_callable = \u001b[38;5;28mself\u001b[39m._check_deprecated_callable_usage(key, maybe_callable)\n\u001b[32m-> \u001b[39m\u001b[32m1191\u001b[39m \u001b[38;5;28;01mreturn\u001b[39;00m \u001b[38;5;28;43mself\u001b[39;49m\u001b[43m.\u001b[49m\u001b[43m_getitem_axis\u001b[49m\u001b[43m(\u001b[49m\u001b[43mmaybe_callable\u001b[49m\u001b[43m,\u001b[49m\u001b[43m \u001b[49m\u001b[43maxis\u001b[49m\u001b[43m=\u001b[49m\u001b[43maxis\u001b[49m\u001b[43m)\u001b[49m\n",
      "\u001b[36mFile \u001b[39m\u001b[32mc:\\Users\\kajab\\AppData\\Local\\Programs\\Python\\Python313\\Lib\\site-packages\\pandas\\core\\indexing.py:1431\u001b[39m, in \u001b[36m_LocIndexer._getitem_axis\u001b[39m\u001b[34m(self, key, axis)\u001b[39m\n\u001b[32m   1429\u001b[39m \u001b[38;5;66;03m# fall thru to straight lookup\u001b[39;00m\n\u001b[32m   1430\u001b[39m \u001b[38;5;28mself\u001b[39m._validate_key(key, axis)\n\u001b[32m-> \u001b[39m\u001b[32m1431\u001b[39m \u001b[38;5;28;01mreturn\u001b[39;00m \u001b[38;5;28;43mself\u001b[39;49m\u001b[43m.\u001b[49m\u001b[43m_get_label\u001b[49m\u001b[43m(\u001b[49m\u001b[43mkey\u001b[49m\u001b[43m,\u001b[49m\u001b[43m \u001b[49m\u001b[43maxis\u001b[49m\u001b[43m=\u001b[49m\u001b[43maxis\u001b[49m\u001b[43m)\u001b[49m\n",
      "\u001b[36mFile \u001b[39m\u001b[32mc:\\Users\\kajab\\AppData\\Local\\Programs\\Python\\Python313\\Lib\\site-packages\\pandas\\core\\indexing.py:1381\u001b[39m, in \u001b[36m_LocIndexer._get_label\u001b[39m\u001b[34m(self, label, axis)\u001b[39m\n\u001b[32m   1379\u001b[39m \u001b[38;5;28;01mdef\u001b[39;00m\u001b[38;5;250m \u001b[39m\u001b[34m_get_label\u001b[39m(\u001b[38;5;28mself\u001b[39m, label, axis: AxisInt):\n\u001b[32m   1380\u001b[39m     \u001b[38;5;66;03m# GH#5567 this will fail if the label is not present in the axis.\u001b[39;00m\n\u001b[32m-> \u001b[39m\u001b[32m1381\u001b[39m     \u001b[38;5;28;01mreturn\u001b[39;00m \u001b[38;5;28;43mself\u001b[39;49m\u001b[43m.\u001b[49m\u001b[43mobj\u001b[49m\u001b[43m.\u001b[49m\u001b[43mxs\u001b[49m\u001b[43m(\u001b[49m\u001b[43mlabel\u001b[49m\u001b[43m,\u001b[49m\u001b[43m \u001b[49m\u001b[43maxis\u001b[49m\u001b[43m=\u001b[49m\u001b[43maxis\u001b[49m\u001b[43m)\u001b[49m\n",
      "\u001b[36mFile \u001b[39m\u001b[32mc:\\Users\\kajab\\AppData\\Local\\Programs\\Python\\Python313\\Lib\\site-packages\\pandas\\core\\generic.py:4320\u001b[39m, in \u001b[36mNDFrame.xs\u001b[39m\u001b[34m(self, key, axis, level, drop_level)\u001b[39m\n\u001b[32m   4318\u001b[39m             new_index = index[loc]\n\u001b[32m   4319\u001b[39m \u001b[38;5;28;01melse\u001b[39;00m:\n\u001b[32m-> \u001b[39m\u001b[32m4320\u001b[39m     loc = \u001b[43mindex\u001b[49m\u001b[43m.\u001b[49m\u001b[43mget_loc\u001b[49m\u001b[43m(\u001b[49m\u001b[43mkey\u001b[49m\u001b[43m)\u001b[49m\n\u001b[32m   4322\u001b[39m     \u001b[38;5;28;01mif\u001b[39;00m \u001b[38;5;28misinstance\u001b[39m(loc, np.ndarray):\n\u001b[32m   4323\u001b[39m         \u001b[38;5;28;01mif\u001b[39;00m loc.dtype == np.bool_:\n",
      "\u001b[36mFile \u001b[39m\u001b[32mc:\\Users\\kajab\\AppData\\Local\\Programs\\Python\\Python313\\Lib\\site-packages\\pandas\\core\\indexes\\base.py:3819\u001b[39m, in \u001b[36mIndex.get_loc\u001b[39m\u001b[34m(self, key)\u001b[39m\n\u001b[32m   3814\u001b[39m     \u001b[38;5;28;01mif\u001b[39;00m \u001b[38;5;28misinstance\u001b[39m(casted_key, \u001b[38;5;28mslice\u001b[39m) \u001b[38;5;129;01mor\u001b[39;00m (\n\u001b[32m   3815\u001b[39m         \u001b[38;5;28misinstance\u001b[39m(casted_key, abc.Iterable)\n\u001b[32m   3816\u001b[39m         \u001b[38;5;129;01mand\u001b[39;00m \u001b[38;5;28many\u001b[39m(\u001b[38;5;28misinstance\u001b[39m(x, \u001b[38;5;28mslice\u001b[39m) \u001b[38;5;28;01mfor\u001b[39;00m x \u001b[38;5;129;01min\u001b[39;00m casted_key)\n\u001b[32m   3817\u001b[39m     ):\n\u001b[32m   3818\u001b[39m         \u001b[38;5;28;01mraise\u001b[39;00m InvalidIndexError(key)\n\u001b[32m-> \u001b[39m\u001b[32m3819\u001b[39m     \u001b[38;5;28;01mraise\u001b[39;00m \u001b[38;5;167;01mKeyError\u001b[39;00m(key) \u001b[38;5;28;01mfrom\u001b[39;00m\u001b[38;5;250m \u001b[39m\u001b[34;01merr\u001b[39;00m\n\u001b[32m   3820\u001b[39m \u001b[38;5;28;01mexcept\u001b[39;00m \u001b[38;5;167;01mTypeError\u001b[39;00m:\n\u001b[32m   3821\u001b[39m     \u001b[38;5;66;03m# If we have a listlike key, _check_indexing_error will raise\u001b[39;00m\n\u001b[32m   3822\u001b[39m     \u001b[38;5;66;03m#  InvalidIndexError. Otherwise we fall through and re-raise\u001b[39;00m\n\u001b[32m   3823\u001b[39m     \u001b[38;5;66;03m#  the TypeError.\u001b[39;00m\n\u001b[32m   3824\u001b[39m     \u001b[38;5;28mself\u001b[39m._check_indexing_error(key)\n",
      "\u001b[31mKeyError\u001b[39m: 'Skupaj'"
     ]
    }
   ],
   "source": [
    "MEDALJE_SKUPAJ2_SUMMER.loc['Skupaj'].plot.bar(title=\"Skupaj osvojenih medalj po igrah na poletnih olimpijskih igrah\", ylabel=\"Število osvojenih medalj\", xlabel=\"Leta\")"
   ]
  },
  {
   "cell_type": "markdown",
   "id": "e6d2d111",
   "metadata": {},
   "source": [
    "Katera drzava jih je tekom vseh let dobila najvec in koliko, katero leto najvec"
   ]
  },
  {
   "cell_type": "code",
   "execution_count": null,
   "id": "5fc8e497",
   "metadata": {},
   "outputs": [],
   "source": []
  }
 ],
 "metadata": {
  "kernelspec": {
   "display_name": "Python 3",
   "language": "python",
   "name": "python3"
  },
  "language_info": {
   "codemirror_mode": {
    "name": "ipython",
    "version": 3
   },
   "file_extension": ".py",
   "mimetype": "text/x-python",
   "name": "python",
   "nbconvert_exporter": "python",
   "pygments_lexer": "ipython3",
   "version": "3.13.2"
  }
 },
 "nbformat": 4,
 "nbformat_minor": 5
}
