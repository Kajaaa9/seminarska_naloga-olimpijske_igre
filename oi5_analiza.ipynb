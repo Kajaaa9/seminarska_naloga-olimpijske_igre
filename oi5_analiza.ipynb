{
 "cells": [
  {
   "cell_type": "markdown",
   "id": "5796825a",
   "metadata": {},
   "source": [
    "# OLIMPIJSKE IGRE"
   ]
  },
  {
   "cell_type": "markdown",
   "id": "2d2c7d08",
   "metadata": {
    "vscode": {
     "languageId": "plaintext"
    }
   },
   "source": [
    "Analiza dosežkov na olimpijskih igrah po državah in pogostosti posameznih športnih disciplin na olimpijskih igrah."
   ]
  },
  {
   "cell_type": "markdown",
   "id": "fcef195c",
   "metadata": {},
   "source": [
    "## Uvoz podatkov"
   ]
  },
  {
   "cell_type": "code",
   "execution_count": 93,
   "id": "3f4484a1",
   "metadata": {},
   "outputs": [],
   "source": [
    "import pandas as pd            # za delo s tabelami\n",
    "import seaborn as sns          # za lepo risanje grafov             # da se grafi prikažejo v notebooku\n",
    "%matplotlib inline\n",
    "\n",
    "## ker bomo delali z velikimi razpredelnicami, povemo, da naj se vedno izpiše le 10 vrstic\n",
    "pd.set_option(\"display.max_rows\", 10)\n",
    "# pd.options.display.max_rows = 10      # druga opcija, oboje je ok\n",
    "\n",
    "# naložimo razpredelnico, s katero bomo delali\n",
    "MEDALJE = pd.read_csv(\"oi8.3_medalje_pregled.csv\", index_col=0)\n",
    "DISCIPLINE = pd.read_csv(\"oi9.3_discipline_pregled.csv\", index_col=0)"
   ]
  },
  {
   "cell_type": "code",
   "execution_count": 94,
   "id": "8bd1f112",
   "metadata": {},
   "outputs": [],
   "source": [
    "MEDALJE_SUMMER = MEDALJE.filter(like=\"Summer\").astype(int).rename(columns=lambda x: x.replace(\"-Summer\", \"\")).loc[lambda df: ~(df == 0).all(axis=1)]\n",
    "MEDALJE_WINTER = MEDALJE.filter(like=\"Winter\").astype(int).rename(columns=lambda x: x.replace(\"-Winter\", \"\")).loc[lambda df: ~(df == 0).all(axis=1)]"
   ]
  },
  {
   "cell_type": "code",
   "execution_count": 95,
   "id": "a892b89e",
   "metadata": {},
   "outputs": [],
   "source": [
    "MEDALJE_SKUPAJ = MEDALJE.filter(like=\"Skupaj\").astype(int).rename(columns=lambda x: x.replace(\"-Skupaj\", \"\")).loc[lambda df: ~(df == 0).all(axis=1)]\n",
    "MEDALJE_SKUPAJ_SUMMER = MEDALJE_SUMMER.filter(like=\"Skupaj\").astype(int).rename(columns=lambda x: x.replace(\"-Skupaj\", \"\")).loc[lambda df: ~(df == 0).all(axis=1)]\n",
    "MEDALJE_SKUPAJ_WINTER = MEDALJE_WINTER.filter(like=\"Skupaj\").astype(int).rename(columns=lambda x: x.replace(\"-Skupaj\", \"\")).loc[lambda df: ~(df == 0).all(axis=1)]\n",
    "\n",
    "# samo letnice, ne mesta\n",
    "MEDALJE_SKUPAJ2_SUMMER = MEDALJE_SUMMER.filter(like=\"Skupaj\").astype(int).rename(columns=lambda x: x.split('-')[0]).loc[lambda df: ~(df == 0).all(axis=1)]\n",
    "MEDALJE_SKUPAJ2_WINTER = MEDALJE_WINTER.filter(like=\"Skupaj\").astype(int).rename(columns=lambda x: x.split('-')[0]).loc[lambda df: ~(df == 0).all(axis=1)]"
   ]
  },
  {
   "cell_type": "code",
   "execution_count": 96,
   "id": "8592c99f",
   "metadata": {},
   "outputs": [],
   "source": [
    "DISCIPLINE_SUMMER = DISCIPLINE.filter(like=\"Summer\").astype(int).rename(columns=lambda x: x.replace(\"-Summer\", \"\")).loc[lambda df: ~(df == 0).all(axis=1)]\n",
    "DISCIPLINE_WINTER = DISCIPLINE.filter(like=\"Winter\").astype(int).rename(columns=lambda x: x.replace(\"-Winter\", \"\")).loc[lambda df: ~(df == 0).all(axis=1)]"
   ]
  },
  {
   "cell_type": "markdown",
   "id": "ff33f0bc",
   "metadata": {},
   "source": [
    "##"
   ]
  },
  {
   "cell_type": "markdown",
   "id": "950654eb",
   "metadata": {},
   "source": [
    "## Splošno"
   ]
  },
  {
   "cell_type": "markdown",
   "id": "db9feec9",
   "metadata": {},
   "source": [
    "Število olimpijskih iger"
   ]
  },
  {
   "cell_type": "code",
   "execution_count": 97,
   "id": "025ab35f",
   "metadata": {},
   "outputs": [
    {
     "name": "stdout",
     "output_type": "stream",
     "text": [
      "Skupaj olimpijskih iger: 54\n",
      "Poletne olimpijske igre: 30\n",
      "Zimske olimpijske igre: 24\n"
     ]
    }
   ],
   "source": [
    "print(f\"Skupaj olimpijskih iger: {len(DISCIPLINE.columns)}\")\n",
    "print(f\"Poletne olimpijske igre: {len(DISCIPLINE_SUMMER.columns)}\")\n",
    "print(f\"Zimske olimpijske igre: {len(DISCIPLINE_WINTER.columns)}\")"
   ]
  },
  {
   "cell_type": "markdown",
   "id": "dc0665fd",
   "metadata": {},
   "source": [
    "Lokacija olimpijskih iger"
   ]
  },
  {
   "cell_type": "code",
   "execution_count": 98,
   "id": "3c738056",
   "metadata": {},
   "outputs": [
    {
     "name": "stdout",
     "output_type": "stream",
     "text": [
      "Največrat so se Olimpijske igre odvijale v Paris, London in sicer 3-krat.\n"
     ]
    }
   ],
   "source": [
    "kraji = DISCIPLINE.columns.str.split(\"-\", n=2).str[1].value_counts()\n",
    "kraji_najvec_oi = kraji[kraji == kraji.max()]\n",
    "\n",
    "print(f\"Največrat so se Olimpijske igre odvijale v {\", \".join(kraji_najvec_oi.index)} in sicer {kraji.max()}-krat.\")     #sklanjanje!!"
   ]
  },
  {
   "cell_type": "code",
   "execution_count": 99,
   "id": "d2855a7d",
   "metadata": {},
   "outputs": [
    {
     "name": "stdout",
     "output_type": "stream",
     "text": [
      "V Tokyu so bile Olimpijske igre 2-krat, in sicer leta 1964, 2020.\n"
     ]
    }
   ],
   "source": [
    "tokyo_leta = DISCIPLINE.columns[DISCIPLINE.columns.str.contains(\"-Tokyo-\")].str.split(\"-\", n=2).str[0]\n",
    "print(f\"V Tokyu so bile Olimpijske igre {kraji['Tokyo']}-krat, in sicer leta {', '.join(tokyo_leta)}.\")"
   ]
  },
  {
   "cell_type": "code",
   "execution_count": 100,
   "id": "f2efb07f",
   "metadata": {},
   "outputs": [
    {
     "name": "stdout",
     "output_type": "stream",
     "text": [
      "Mesto Tokyo je gostilo Olimpijske igre 2-krat, in sicer leta 1964, 2020.\n"
     ]
    }
   ],
   "source": [
    "mesto = \"Tokyo\"     # mesto za katero me zanima\n",
    "\n",
    "if mesto.replace(\" \", \"_\") not in kraji:\n",
    "    print(f'Mesto {mesto} ni nikoli gostilo Olimpijskih iger.')\n",
    "else:\n",
    "    katera_leta = DISCIPLINE.columns[DISCIPLINE.columns.str.contains(f\"-{mesto}-\")].str.split(\"-\", n=2).str[0]\n",
    "    print(f\"Mesto {mesto} je gostilo Olimpijske igre {kraji[mesto]}-krat, in sicer leta {', '.join(katera_leta)}.\")"
   ]
  },
  {
   "cell_type": "code",
   "execution_count": 101,
   "id": "a09ab3cc",
   "metadata": {},
   "outputs": [
    {
     "name": "stdout",
     "output_type": "stream",
     "text": [
      "Mesto Ljubljana ni nikoli gostilo Olimpijskih iger.\n"
     ]
    }
   ],
   "source": [
    "mesto = \"Ljubljana\"     # mesto za katero me zanima\n",
    "\n",
    "if mesto.replace(\" \", \"_\") not in kraji:\n",
    "    print(f'Mesto {mesto} ni nikoli gostilo Olimpijskih iger.')\n",
    "else:\n",
    "    katera_leta = DISCIPLINE.columns[DISCIPLINE.columns.str.contains(f\"-{mesto}-\")].str.split(\"-\", n=2).str[0]\n",
    "    print(f\"Mesto {mesto} je gostilo Olimpijske igre {kraji[mesto]}-krat, in sicer leta {', '.join(katera_leta)}.\")"
   ]
  },
  {
   "cell_type": "markdown",
   "id": "a757220c",
   "metadata": {},
   "source": [
    "## Medalje"
   ]
  },
  {
   "cell_type": "markdown",
   "id": "8d0e23f7",
   "metadata": {},
   "source": [
    "Koliko medalj je bilo podeljenih vsako leto"
   ]
  },
  {
   "cell_type": "code",
   "execution_count": 102,
   "id": "0bf970a9",
   "metadata": {},
   "outputs": [],
   "source": [
    "MEDALJE_SKUPAJ.loc['Skupaj'] = MEDALJE_SKUPAJ.drop('Skupaj', errors='ignore').sum()\n",
    "MEDALJE_SKUPAJ_SUMMER.loc['Skupaj'] = MEDALJE_SKUPAJ_SUMMER.drop('Skupaj', errors='ignore').sum()\n",
    "MEDALJE_SKUPAJ_WINTER.loc['Skupaj'] = MEDALJE_SKUPAJ_WINTER.drop('Skupaj', errors='ignore').sum()\n",
    "MEDALJE_SKUPAJ2_SUMMER.loc['Skupaj'] = MEDALJE_SKUPAJ2_SUMMER.drop('Skupaj', errors='ignore').sum()\n",
    "MEDALJE_SKUPAJ2_WINTER.loc['Skupaj'] = MEDALJE_SKUPAJ2_WINTER.drop('Skupaj', errors='ignore').sum()"
   ]
  },
  {
   "cell_type": "code",
   "execution_count": 103,
   "id": "0f615811",
   "metadata": {},
   "outputs": [
    {
     "data": {
      "text/plain": [
       "<Axes: title={'center': 'Skupaj osvojenih medalj po igrah na poletnih olimpijskih igrah'}, xlabel='Leta', ylabel='Število osvojenih medalj'>"
      ]
     },
     "execution_count": 103,
     "metadata": {},
     "output_type": "execute_result"
    },
    {
     "data": {
      "image/png": "[encoded data removed]",
      "text/plain": [
       "<Figure size 640x480 with 1 Axes>"
      ]
     },
     "metadata": {},
     "output_type": "display_data"
    }
   ],
   "source": [
    "# MEDALJE_SKUPAJ2_SUMMER.loc['Skupaj'].plot.bar()\n",
    "MEDALJE_SKUPAJ2_SUMMER.loc['Skupaj'].plot.bar(title=\"Skupaj osvojenih medalj po igrah na poletnih olimpijskih igrah\", ylabel=\"Število osvojenih medalj\", xlabel=\"Leta\")"
   ]
  },
  {
   "cell_type": "markdown",
   "id": "e6d2d111",
   "metadata": {},
   "source": [
    "Katera država jih je tekom vseh let dobila največ in koliko, katero leto največ"
   ]
  },
  {
   "cell_type": "code",
   "execution_count": 145,
   "id": "fd7f0e6e",
   "metadata": {},
   "outputs": [],
   "source": [
    "MEDALJE_SKUPAJ = MEDALJE_SKUPAJ.drop(index='Skupaj', errors='ignore').drop(columns='Skupaj', errors='ignore').assign(Skupaj=lambda df: df.sum(axis=1)).sort_values(by=\"Skupaj\", ascending=False)\n",
    "MEDALJE_SKUPAJ_SUMMER = MEDALJE_SKUPAJ_SUMMER.drop('Skupaj', errors='ignore').drop(columns='Skupaj', errors='ignore').assign(Skupaj=lambda df: df.sum(axis=1)).sort_values(by=\"Skupaj\", ascending=False)\n",
    "MEDALJE_SKUPAJ_WINTER = MEDALJE_SKUPAJ_WINTER.drop('Skupaj', errors='ignore').drop(columns='Skupaj', errors='ignore').assign(Skupaj=lambda df: df.sum(axis=1)).sort_values(by=\"Skupaj\", ascending=False)\n",
    "# vse = MEDALJE_SKUPAJ = MEDALJE_SKUPAJ.drop(index='Skupaj', errors='ignore').drop(columns='Skupaj', errors='ignore').assign(Skupaj=lambda df: df.sum(axis=1)).sort_values(by=\"Skupaj\", ascending=False)\n",
    "# poletne = MEDALJE_SKUPAJ_SUMMER = MEDALJE_SKUPAJ_SUMMER.drop('Skupaj', errors='ignore').drop(columns='Skupaj', errors='ignore').assign(Skupaj=lambda df: df.sum(axis=1)).sort_values(by=\"Skupaj\", ascending=False)\n",
    "# zimske = MEDALJE_SKUPAJ_WINTER = MEDALJE_SKUPAJ_WINTER.drop('Skupaj', errors='ignore').drop(columns='Skupaj', errors='ignore').assign(Skupaj=lambda df: df.sum(axis=1)).sort_values(by=\"Skupaj\", ascending=False)\n",
    "\n",
    "# MEDALJE_SKUPAJ.iloc[:, [-1]] # le indeks in zadnji stolpec"
   ]
  },
  {
   "cell_type": "code",
   "execution_count": 151,
   "id": "7826587c",
   "metadata": {},
   "outputs": [
    {
     "name": "stdout",
     "output_type": "stream",
     "text": [
      " olimpijske igre: \n",
      "Od leta 1896 je skupno največ medalj dosegla United States of America in sicer 2815.\n",
      "Največ medalj so osvojili leta 1984 v mestu Los Angeles in sicer 174.\n"
     ]
    }
   ],
   "source": [
    "vse = MEDALJE_SKUPAJ\n",
    "poletne = MEDALJE_SKUPAJ_SUMMER\n",
    "zimske = MEDALJE_SKUPAJ_WINTER\n",
    "\n",
    "igre = vse  # izberemo igre za katere nas zanima (vse, poletne, zimske)\n",
    "\n",
    "print(f\" olimpijske igre: \\n\"\n",
    "      f\"Od leta {MEDALJE_SKUPAJ.columns[0].split('-')[0]} je skupno največ medalj dosegla {MEDALJE_SKUPAJ.index[0]} in sicer {MEDALJE_SKUPAJ.iloc[0, -1]}.\\n\"\n",
    "      f\"Največ medalj so osvojili leta {MEDALJE_SKUPAJ.iloc[0, :-1].idxmax().split('-')[0]} v mestu {MEDALJE_SKUPAJ.iloc[0, :-1].idxmax().split('-')[1].replace(\"_\", \" \")} in sicer {MEDALJE_SKUPAJ.iloc[0, :-1].max()}.\")"
   ]
  },
  {
   "cell_type": "code",
   "execution_count": 147,
   "id": "7fb1bf39",
   "metadata": {},
   "outputs": [
    {
     "name": "stdout",
     "output_type": "stream",
     "text": [
      "Od leta 1896 je na poletnih olimpijskih igrah skupno največ medalj dosegla United States of America in sicer 2485.\n",
      "Največ medalj so osvojili leta 1984 v mestu Los Angeles in sicer 174.\n"
     ]
    }
   ],
   "source": [
    "print(f\"Od leta {MEDALJE_SKUPAJ_SUMMER.columns[0].split('-')[0]} je na poletnih olimpijskih igrah skupno največ medalj dosegla {MEDALJE_SKUPAJ_SUMMER.index[0]} in sicer {MEDALJE_SKUPAJ_SUMMER.iloc[0, -1]}.\\n\"\n",
    "      f\"Največ medalj so osvojili leta {MEDALJE_SKUPAJ_SUMMER.iloc[0, :-1].idxmax().split('-')[0]} v mestu {MEDALJE_SKUPAJ_SUMMER.iloc[0, :-1].idxmax().split('-')[1].replace(\"_\", \" \")} in sicer {MEDALJE_SKUPAJ_SUMMER.iloc[0, :-1].max()}.\")"
   ]
  },
  {
   "cell_type": "code",
   "execution_count": null,
   "id": "d78d79b7",
   "metadata": {},
   "outputs": [],
   "source": []
  },
  {
   "cell_type": "code",
   "execution_count": null,
   "id": "b8944206",
   "metadata": {},
   "outputs": [],
   "source": []
  }
 ],
 "metadata": {
  "kernelspec": {
   "display_name": "Python 3",
   "language": "python",
   "name": "python3"
  },
  "language_info": {
   "codemirror_mode": {
    "name": "ipython",
    "version": 3
   },
   "file_extension": ".py",
   "mimetype": "text/x-python",
   "name": "python",
   "nbconvert_exporter": "python",
   "pygments_lexer": "ipython3",
   "version": "3.13.2"
  }
 },
 "nbformat": 4,
 "nbformat_minor": 5
}
